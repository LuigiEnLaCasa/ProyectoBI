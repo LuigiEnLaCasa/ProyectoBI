{
 "cells": [
  {
   "cell_type": "markdown",
   "id": "c5e4f9f4",
   "metadata": {},
   "source": [
    "# Proyecto 1 BI\n",
    "#### Grupo 8"
   ]
  },
  {
   "cell_type": "markdown",
   "id": "169514f0",
   "metadata": {},
   "source": [
    "***Estudiantes:*** \n",
    "\n",
    "A continuación se presenta el algoritmo que implementó cada persona\n",
    "\n",
    "- Alejandro Hoyos - 202215277 - KNN\n",
    "- Andrés Bolívar - 202214834 - Arboles de decision\n",
    "- Luis Pinilla - 202221306 - Naive Bayes"
   ]
  },
  {
   "cell_type": "markdown",
   "id": "7e01283b",
   "metadata": {
    "vscode": {
     "languageId": "plaintext"
    }
   },
   "source": [
    "## Importación de librerías"
   ]
  },
  {
   "cell_type": "code",
   "execution_count": 303,
   "id": "282d4871",
   "metadata": {},
   "outputs": [
    {
     "name": "stderr",
     "output_type": "stream",
     "text": [
      "[nltk_data] Downloading package stopwords to\n",
      "[nltk_data]     /Users/luchopinilla/nltk_data...\n",
      "[nltk_data]   Package stopwords is already up-to-date!\n"
     ]
    }
   ],
   "source": [
    "#Cosas de toda la vida \n",
    "import matplotlib.pyplot as plt\n",
    "import numpy as np\n",
    "import pandas as pd\n",
    "import seaborn as sns\n",
    "\n",
    "#Limpia Texto\n",
    "import unicodedata as unicodedata\n",
    "import re\n",
    "import nltk \n",
    "nltk.download('stopwords')\n",
    "from nltk.corpus import stopwords\n",
    "\n",
    "#Lematizar\n",
    "from nltk.stem.snowball import SnowballStemmer\n",
    "\n",
    "#BOW / vectorizar\n",
    "import sklearn\n",
    "from sklearn.feature_extraction.text import CountVectorizer\n",
    "\n",
    "#balanceo de clases\n",
    "from imblearn.under_sampling import RandomUnderSampler\n",
    "\n",
    "# Naive Bayes\n",
    "\n",
    "from sklearn.naive_bayes import MultinomialNB\n",
    "from sklearn.model_selection import GridSearchCV, StratifiedKFold\n",
    "from sklearn.metrics import accuracy_score, classification_report, confusion_matrix, ConfusionMatrixDisplay\n",
    "from sklearn.model_selection import train_test_split\n",
    "\n",
    "#Árboles de decisión\n",
    "from sklearn.model_selection import train_test_split, GridSearchCV, StratifiedKFold, cross_val_score\n",
    "from sklearn.tree import DecisionTreeClassifier, plot_tree\n",
    "from sklearn.metrics import (\n",
    "    accuracy_score, classification_report, confusion_matrix, ConfusionMatrixDisplay, f1_score\n",
    ")\n",
    "\n",
    "# KNN\n",
    "import numpy as np\n",
    "from sklearn.pipeline import Pipeline\n",
    "from sklearn.preprocessing import StandardScaler\n",
    "from sklearn.neighbors import KNeighborsClassifier\n",
    "from sklearn.model_selection import GridSearchCV, StratifiedKFold\n",
    "from sklearn.metrics import accuracy_score, classification_report\n",
    "from sklearn.model_selection import train_test_split\n",
    "from sklearn.feature_extraction.text import TfidfTransformer\n",
    "\n"
   ]
  },
  {
   "cell_type": "markdown",
   "id": "c81276ee",
   "metadata": {},
   "source": [
    "## Exploración de los datos"
   ]
  },
  {
   "cell_type": "markdown",
   "id": "deace232",
   "metadata": {},
   "source": [
    "### Tipos de dato\n",
    "- Son tres columnas (\"\",texto, labels) en las que una es simplemente el comentario, otra es ODS asociado\n",
    "- Por cada ODS existen \n",
    "    ODS 1 : 505 \n",
    "    ODS 3 : 894\n",
    "    ODS 4 : 1025\n",
    "\n",
    "\n",
    "#### Notas para la limpieza\n",
    "- Toca balancear las entradas por tipo de ODS\n",
    "- Toca procesar toda la columna de texto para poder descifrar a que ODS se puede clasificar\n",
    "- Sorprendentemente no hay Nulos en ninguna de las columnas\n",
    "- Tampoco hay filas duplicadas.\n",
    "- Tampoco hay valores anómalos... todas las etiquetas corresponden a una de las ODS"
   ]
  },
  {
   "cell_type": "code",
   "execution_count": 304,
   "id": "8113d5ce",
   "metadata": {},
   "outputs": [
    {
     "data": {
      "text/html": [
       "<div>\n",
       "<style scoped>\n",
       "    .dataframe tbody tr th:only-of-type {\n",
       "        vertical-align: middle;\n",
       "    }\n",
       "\n",
       "    .dataframe tbody tr th {\n",
       "        vertical-align: top;\n",
       "    }\n",
       "\n",
       "    .dataframe thead th {\n",
       "        text-align: right;\n",
       "    }\n",
       "</style>\n",
       "<table border=\"1\" class=\"dataframe\">\n",
       "  <thead>\n",
       "    <tr style=\"text-align: right;\">\n",
       "      <th></th>\n",
       "      <th>textos</th>\n",
       "      <th>labels</th>\n",
       "    </tr>\n",
       "  </thead>\n",
       "  <tbody>\n",
       "    <tr>\n",
       "      <th>0</th>\n",
       "      <td>\"Aprendizaje\" y \"educación\" se consideran sinó...</td>\n",
       "      <td>4</td>\n",
       "    </tr>\n",
       "    <tr>\n",
       "      <th>1</th>\n",
       "      <td>Para los niños más pequeños (bebés y niños peq...</td>\n",
       "      <td>4</td>\n",
       "    </tr>\n",
       "    <tr>\n",
       "      <th>2</th>\n",
       "      <td>Además, la formación de especialistas en medic...</td>\n",
       "      <td>3</td>\n",
       "    </tr>\n",
       "    <tr>\n",
       "      <th>3</th>\n",
       "      <td>En los países de la OCDE se tiende a pasar de ...</td>\n",
       "      <td>4</td>\n",
       "    </tr>\n",
       "    <tr>\n",
       "      <th>4</th>\n",
       "      <td>Este grupo se centró en las personas que padec...</td>\n",
       "      <td>3</td>\n",
       "    </tr>\n",
       "  </tbody>\n",
       "</table>\n",
       "</div>"
      ],
      "text/plain": [
       "                                              textos  labels\n",
       "0  \"Aprendizaje\" y \"educación\" se consideran sinó...       4\n",
       "1  Para los niños más pequeños (bebés y niños peq...       4\n",
       "2  Además, la formación de especialistas en medic...       3\n",
       "3  En los países de la OCDE se tiende a pasar de ...       4\n",
       "4  Este grupo se centró en las personas que padec...       3"
      ]
     },
     "execution_count": 304,
     "metadata": {},
     "output_type": "execute_result"
    }
   ],
   "source": [
    "#Carga de los datos \n",
    "TrainData = pd.read_excel(\"../data/Datos_proyecto.xlsx\")\n",
    "TrainData.head()"
   ]
  },
  {
   "cell_type": "code",
   "execution_count": 305,
   "id": "a47c10b6",
   "metadata": {},
   "outputs": [
    {
     "data": {
      "text/plain": [
       "(2424, 2)"
      ]
     },
     "execution_count": 305,
     "metadata": {},
     "output_type": "execute_result"
    }
   ],
   "source": [
    "# Entradas de la BD \n",
    "TrainData.shape\n"
   ]
  },
  {
   "cell_type": "code",
   "execution_count": 306,
   "id": "995beaac",
   "metadata": {},
   "outputs": [
    {
     "name": "stdout",
     "output_type": "stream",
     "text": [
      "Valores en nulo \n",
      " textos    0\n",
      "labels    0\n",
      "dtype: int64\n",
      "<class 'pandas.core.frame.DataFrame'>\n",
      "RangeIndex: 2424 entries, 0 to 2423\n",
      "Data columns (total 2 columns):\n",
      " #   Column  Non-Null Count  Dtype \n",
      "---  ------  --------------  ----- \n",
      " 0   textos  2424 non-null   object\n",
      " 1   labels  2424 non-null   int64 \n",
      "dtypes: int64(1), object(1)\n",
      "memory usage: 38.0+ KB\n"
     ]
    }
   ],
   "source": [
    "# Valores nulos  \n",
    "print(\"Valores en nulo \\n\",TrainData.isnull().sum())\n",
    "TrainData.info()"
   ]
  },
  {
   "cell_type": "code",
   "execution_count": 307,
   "id": "688a4d68",
   "metadata": {},
   "outputs": [
    {
     "name": "stdout",
     "output_type": "stream",
     "text": [
      "0\n"
     ]
    }
   ],
   "source": [
    "# Filas duplicadas\n",
    "nDuplicados= TrainData.duplicated().sum()\n",
    "print(nDuplicados)\n"
   ]
  },
  {
   "cell_type": "code",
   "execution_count": 308,
   "id": "55174e50",
   "metadata": {},
   "outputs": [
    {
     "name": "stdout",
     "output_type": "stream",
     "text": [
      "Cuenta del número de entradas por cada ODS\n",
      "        cuenta\n",
      "labels        \n",
      "1          505\n",
      "3          894\n",
      "4         1025\n"
     ]
    }
   ],
   "source": [
    "#Entradas diferentes en la columna labels, cada uno corresponde a un ODS.\n",
    "ods_entradas = TrainData[\"labels\"].value_counts().sort_index()\n",
    "print(\"Cuenta del número de entradas por cada ODS\")\n",
    "print(ods_entradas.to_frame(\"cuenta\"))\n"
   ]
  },
  {
   "cell_type": "markdown",
   "id": "0e3df9ac",
   "metadata": {},
   "source": [
    "## Limpieza Básica \n",
    "1. **Convertir a string (`astype(str)`):**  \n",
    "   Nos aseguramos de que toda la columna de textos sea del tipo `str`, evitando errores si hay valores numéricos o nulos.\n",
    "\n",
    "2. **Eliminar mayúsculas (`texto.lower()`):**  \n",
    "   Pasamos todo a minúsculas para evitar que palabras como *Educación* y *educación* se traten como diferentes.\n",
    "\n",
    "3. **Eliminar acentos (`unicodedata.normalize`):**  \n",
    "   Quitamos tildes y caracteres raros (ej: `á -> a`, `ü -> u`), lo que facilita el procesamiento y uniformiza las palabras.\n",
    "\n",
    "4. **Eliminar puntuación y caracteres especiales (`re.sub`):**  \n",
    "   Quitamos símbolos, números y signos de puntuación que no aportan al modelo, dejando solo letras y espacios."
   ]
  },
  {
   "cell_type": "code",
   "execution_count": 309,
   "id": "8dbf6a02",
   "metadata": {},
   "outputs": [
    {
     "name": "stdout",
     "output_type": "stream",
     "text": [
      "<class 'pandas.core.frame.DataFrame'>\n",
      "RangeIndex: 2424 entries, 0 to 2423\n",
      "Data columns (total 2 columns):\n",
      " #   Column  Non-Null Count  Dtype \n",
      "---  ------  --------------  ----- \n",
      " 0   textos  2424 non-null   object\n",
      " 1   labels  2424 non-null   int64 \n",
      "dtypes: int64(1), object(1)\n",
      "memory usage: 38.0+ KB\n"
     ]
    }
   ],
   "source": [
    "# Volver la columna \"texto\" en string\n",
    "TrainData[\"textos\"] = TrainData[\"textos\"].astype(str)\n",
    "TrainData.info() "
   ]
  },
  {
   "cell_type": "code",
   "execution_count": 310,
   "id": "70f558d7",
   "metadata": {},
   "outputs": [
    {
     "data": {
      "text/html": [
       "<div>\n",
       "<style scoped>\n",
       "    .dataframe tbody tr th:only-of-type {\n",
       "        vertical-align: middle;\n",
       "    }\n",
       "\n",
       "    .dataframe tbody tr th {\n",
       "        vertical-align: top;\n",
       "    }\n",
       "\n",
       "    .dataframe thead th {\n",
       "        text-align: right;\n",
       "    }\n",
       "</style>\n",
       "<table border=\"1\" class=\"dataframe\">\n",
       "  <thead>\n",
       "    <tr style=\"text-align: right;\">\n",
       "      <th></th>\n",
       "      <th>textos</th>\n",
       "      <th>labels</th>\n",
       "    </tr>\n",
       "  </thead>\n",
       "  <tbody>\n",
       "    <tr>\n",
       "      <th>0</th>\n",
       "      <td>\"Aprendizaje\" y \"educación\" se consideran sinó...</td>\n",
       "      <td>4</td>\n",
       "    </tr>\n",
       "    <tr>\n",
       "      <th>1</th>\n",
       "      <td>Para los niños más pequeños (bebés y niños peq...</td>\n",
       "      <td>4</td>\n",
       "    </tr>\n",
       "    <tr>\n",
       "      <th>2</th>\n",
       "      <td>Además, la formación de especialistas en medic...</td>\n",
       "      <td>3</td>\n",
       "    </tr>\n",
       "    <tr>\n",
       "      <th>3</th>\n",
       "      <td>En los países de la OCDE se tiende a pasar de ...</td>\n",
       "      <td>4</td>\n",
       "    </tr>\n",
       "    <tr>\n",
       "      <th>4</th>\n",
       "      <td>Este grupo se centró en las personas que padec...</td>\n",
       "      <td>3</td>\n",
       "    </tr>\n",
       "  </tbody>\n",
       "</table>\n",
       "</div>"
      ],
      "text/plain": [
       "                                              textos  labels\n",
       "0  \"Aprendizaje\" y \"educación\" se consideran sinó...       4\n",
       "1  Para los niños más pequeños (bebés y niños peq...       4\n",
       "2  Además, la formación de especialistas en medic...       3\n",
       "3  En los países de la OCDE se tiende a pasar de ...       4\n",
       "4  Este grupo se centró en las personas que padec...       3"
      ]
     },
     "execution_count": 310,
     "metadata": {},
     "output_type": "execute_result"
    }
   ],
   "source": [
    "#Eliminar las mayúsculas (pasar a minúsculas)\n",
    "def eliminar_mayusculas(texto):\n",
    "    return texto.lower()\n",
    "\n",
    "TrainData.head()"
   ]
  },
  {
   "cell_type": "code",
   "execution_count": 311,
   "id": "77808c02",
   "metadata": {},
   "outputs": [
    {
     "data": {
      "text/html": [
       "<div>\n",
       "<style scoped>\n",
       "    .dataframe tbody tr th:only-of-type {\n",
       "        vertical-align: middle;\n",
       "    }\n",
       "\n",
       "    .dataframe tbody tr th {\n",
       "        vertical-align: top;\n",
       "    }\n",
       "\n",
       "    .dataframe thead th {\n",
       "        text-align: right;\n",
       "    }\n",
       "</style>\n",
       "<table border=\"1\" class=\"dataframe\">\n",
       "  <thead>\n",
       "    <tr style=\"text-align: right;\">\n",
       "      <th></th>\n",
       "      <th>textos</th>\n",
       "      <th>labels</th>\n",
       "    </tr>\n",
       "  </thead>\n",
       "  <tbody>\n",
       "    <tr>\n",
       "      <th>0</th>\n",
       "      <td>\"Aprendizaje\" y \"educacion\" se consideran sino...</td>\n",
       "      <td>4</td>\n",
       "    </tr>\n",
       "    <tr>\n",
       "      <th>1</th>\n",
       "      <td>Para los ninos mas pequenos (bebes y ninos peq...</td>\n",
       "      <td>4</td>\n",
       "    </tr>\n",
       "    <tr>\n",
       "      <th>2</th>\n",
       "      <td>Ademas, la formacion de especialistas en medic...</td>\n",
       "      <td>3</td>\n",
       "    </tr>\n",
       "    <tr>\n",
       "      <th>3</th>\n",
       "      <td>En los paises de la OCDE se tiende a pasar de ...</td>\n",
       "      <td>4</td>\n",
       "    </tr>\n",
       "    <tr>\n",
       "      <th>4</th>\n",
       "      <td>Este grupo se centro en las personas que padec...</td>\n",
       "      <td>3</td>\n",
       "    </tr>\n",
       "  </tbody>\n",
       "</table>\n",
       "</div>"
      ],
      "text/plain": [
       "                                              textos  labels\n",
       "0  \"Aprendizaje\" y \"educacion\" se consideran sino...       4\n",
       "1  Para los ninos mas pequenos (bebes y ninos peq...       4\n",
       "2  Ademas, la formacion de especialistas en medic...       3\n",
       "3  En los paises de la OCDE se tiende a pasar de ...       4\n",
       "4  Este grupo se centro en las personas que padec...       3"
      ]
     },
     "execution_count": 311,
     "metadata": {},
     "output_type": "execute_result"
    }
   ],
   "source": [
    "# Eliminar Acentos No solo tildes sino otros caracteres raros\n",
    "def eliminar_acentos(texto):\n",
    "    \"esta función es más robusta que usar regex porque maneja caracteres raros raros (ñ, ü, etc)\"\n",
    "    textico = unicodedata.normalize(\"NFD\",texto)\n",
    "    limpio = \"\".join(c for c in textico if unicodedata.category(c) != \"Mn\")\n",
    "    return limpio\n",
    "\n",
    "TrainData[\"textos\"] = TrainData[\"textos\"].apply(eliminar_acentos)\n",
    "TrainData.head()"
   ]
  },
  {
   "cell_type": "code",
   "execution_count": 312,
   "id": "4f506549",
   "metadata": {},
   "outputs": [
    {
     "data": {
      "text/html": [
       "<div>\n",
       "<style scoped>\n",
       "    .dataframe tbody tr th:only-of-type {\n",
       "        vertical-align: middle;\n",
       "    }\n",
       "\n",
       "    .dataframe tbody tr th {\n",
       "        vertical-align: top;\n",
       "    }\n",
       "\n",
       "    .dataframe thead th {\n",
       "        text-align: right;\n",
       "    }\n",
       "</style>\n",
       "<table border=\"1\" class=\"dataframe\">\n",
       "  <thead>\n",
       "    <tr style=\"text-align: right;\">\n",
       "      <th></th>\n",
       "      <th>textos</th>\n",
       "      <th>labels</th>\n",
       "    </tr>\n",
       "  </thead>\n",
       "  <tbody>\n",
       "    <tr>\n",
       "      <th>0</th>\n",
       "      <td>Aprendizaje y educacion se consideran sinonimo...</td>\n",
       "      <td>4</td>\n",
       "    </tr>\n",
       "    <tr>\n",
       "      <th>1</th>\n",
       "      <td>Para los ninos mas pequenos bebes y ninos pequ...</td>\n",
       "      <td>4</td>\n",
       "    </tr>\n",
       "    <tr>\n",
       "      <th>2</th>\n",
       "      <td>Ademas la formacion de especialistas en medici...</td>\n",
       "      <td>3</td>\n",
       "    </tr>\n",
       "    <tr>\n",
       "      <th>3</th>\n",
       "      <td>En los paises de la OCDE se tiende a pasar de ...</td>\n",
       "      <td>4</td>\n",
       "    </tr>\n",
       "    <tr>\n",
       "      <th>4</th>\n",
       "      <td>Este grupo se centro en las personas que padec...</td>\n",
       "      <td>3</td>\n",
       "    </tr>\n",
       "  </tbody>\n",
       "</table>\n",
       "</div>"
      ],
      "text/plain": [
       "                                              textos  labels\n",
       "0  Aprendizaje y educacion se consideran sinonimo...       4\n",
       "1  Para los ninos mas pequenos bebes y ninos pequ...       4\n",
       "2  Ademas la formacion de especialistas en medici...       3\n",
       "3  En los paises de la OCDE se tiende a pasar de ...       4\n",
       "4  Este grupo se centro en las personas que padec...       3"
      ]
     },
     "execution_count": 312,
     "metadata": {},
     "output_type": "execute_result"
    }
   ],
   "source": [
    "# quitar signos de puntuación y caracteres especiales (excepto cosas portentuales )\n",
    "\n",
    "def limpiar_puntuacion(texto):\n",
    "    texto = re.sub(r\"[^A-Za-z0-9/\\-\\s%]\", \" \", texto)\n",
    "    texto = re.sub(r\"\\s+\", \" \", texto).strip()\n",
    "    return texto\n",
    "\n",
    "TrainData[\"textos\"] = TrainData[\"textos\"].apply(limpiar_puntuacion)\n",
    "TrainData.head()"
   ]
  },
  {
   "cell_type": "markdown",
   "id": "22ca69fe",
   "metadata": {},
   "source": [
    "## Tokenización \n",
    "En esta fase dividimos cada texto en una lista de palabras individuales (tokens).  \n",
    "Decidimos usar el método `split()` porque:\n",
    "\n",
    "- Es sencillo y rápido, epara por espacios y nos devuelve cada palabra.  \n",
    "- Se adapta bien a nuestro flujo, ya que después eliminamos stopwords y aplicamos otras transformaciones.  \n",
    "- No dependemos de librerías externas pesadas (como NLTK o spaCy) para esta parte, lo que mejora el rendimiento (intentamos usarlas pero demoraban minutos en correr).\n",
    "\n",
    "Este paso es bien importante porque transforma un texto largo en una estructura manejable (listas de palabras), lo que facilita eliminar stopwords, lematizar y otras transofrmaciones que se hacen después. "
   ]
  },
  {
   "cell_type": "code",
   "execution_count": 313,
   "id": "c8a0cdda",
   "metadata": {},
   "outputs": [
    {
     "name": "stdout",
     "output_type": "stream",
     "text": [
      "textos\n",
      "<class 'list'>    2424\n",
      "Name: count, dtype: int64\n"
     ]
    },
    {
     "data": {
      "text/html": [
       "<div>\n",
       "<style scoped>\n",
       "    .dataframe tbody tr th:only-of-type {\n",
       "        vertical-align: middle;\n",
       "    }\n",
       "\n",
       "    .dataframe tbody tr th {\n",
       "        vertical-align: top;\n",
       "    }\n",
       "\n",
       "    .dataframe thead th {\n",
       "        text-align: right;\n",
       "    }\n",
       "</style>\n",
       "<table border=\"1\" class=\"dataframe\">\n",
       "  <thead>\n",
       "    <tr style=\"text-align: right;\">\n",
       "      <th></th>\n",
       "      <th>textos</th>\n",
       "      <th>labels</th>\n",
       "    </tr>\n",
       "  </thead>\n",
       "  <tbody>\n",
       "    <tr>\n",
       "      <th>0</th>\n",
       "      <td>[Aprendizaje, y, educacion, se, consideran, si...</td>\n",
       "      <td>4</td>\n",
       "    </tr>\n",
       "    <tr>\n",
       "      <th>1</th>\n",
       "      <td>[Para, los, ninos, mas, pequenos, bebes, y, ni...</td>\n",
       "      <td>4</td>\n",
       "    </tr>\n",
       "    <tr>\n",
       "      <th>2</th>\n",
       "      <td>[Ademas, la, formacion, de, especialistas, en,...</td>\n",
       "      <td>3</td>\n",
       "    </tr>\n",
       "    <tr>\n",
       "      <th>3</th>\n",
       "      <td>[En, los, paises, de, la, OCDE, se, tiende, a,...</td>\n",
       "      <td>4</td>\n",
       "    </tr>\n",
       "    <tr>\n",
       "      <th>4</th>\n",
       "      <td>[Este, grupo, se, centro, en, las, personas, q...</td>\n",
       "      <td>3</td>\n",
       "    </tr>\n",
       "  </tbody>\n",
       "</table>\n",
       "</div>"
      ],
      "text/plain": [
       "                                              textos  labels\n",
       "0  [Aprendizaje, y, educacion, se, consideran, si...       4\n",
       "1  [Para, los, ninos, mas, pequenos, bebes, y, ni...       4\n",
       "2  [Ademas, la, formacion, de, especialistas, en,...       3\n",
       "3  [En, los, paises, de, la, OCDE, se, tiende, a,...       4\n",
       "4  [Este, grupo, se, centro, en, las, personas, q...       3"
      ]
     },
     "execution_count": 313,
     "metadata": {},
     "output_type": "execute_result"
    }
   ],
   "source": [
    "# Usamos la función de la librería nltk para tokenizar cada texto\n",
    "def tokenizar(texto):\n",
    "    return texto.split()\n",
    "\n",
    "\n",
    "TrainData[\"textos\"] = TrainData[\"textos\"].apply(tokenizar)\n",
    "# Revisar tipos únicos en la columna\n",
    "print(TrainData[\"textos\"].map(type).value_counts())\n",
    "\n",
    "TrainData.head()\n",
    "     "
   ]
  },
  {
   "cell_type": "markdown",
   "id": "62f99be0",
   "metadata": {},
   "source": [
    "## Eliminar Stop Words \n",
    "\n",
    "En esta fase eliminamos las *stop words*  como \"para\", \"los\", \"de\", \"y\", etc.  \n",
    "\n",
    "Decidimos hacerlo porque:\n",
    "- Son palabras muy frecuentes que **no aportan significado relevante** al modelo.  \n",
    "- Reducen el ruido en el texto, mejorando la representación en el Bag of Words.  \n",
    "- Ayuda a que el modelo se enfoque en términos más discriminativos, como *educación*, *salud*, *formación*. \n",
    "- Ademas computacionalemnte nos va a ahorrar mucho peso en los siguientes pasos.  \n",
    "\n",
    "Usamos la lista de `stopwords` en español de **NLTK**, y filtramos los tokens para quedarnos únicamente con las palabras que aportan valor."
   ]
  },
  {
   "cell_type": "code",
   "execution_count": 314,
   "id": "eab5fd1f",
   "metadata": {},
   "outputs": [
    {
     "data": {
      "text/html": [
       "<div>\n",
       "<style scoped>\n",
       "    .dataframe tbody tr th:only-of-type {\n",
       "        vertical-align: middle;\n",
       "    }\n",
       "\n",
       "    .dataframe tbody tr th {\n",
       "        vertical-align: top;\n",
       "    }\n",
       "\n",
       "    .dataframe thead th {\n",
       "        text-align: right;\n",
       "    }\n",
       "</style>\n",
       "<table border=\"1\" class=\"dataframe\">\n",
       "  <thead>\n",
       "    <tr style=\"text-align: right;\">\n",
       "      <th></th>\n",
       "      <th>textos</th>\n",
       "      <th>labels</th>\n",
       "    </tr>\n",
       "  </thead>\n",
       "  <tbody>\n",
       "    <tr>\n",
       "      <th>0</th>\n",
       "      <td>[Aprendizaje, educacion, consideran, sinonimos...</td>\n",
       "      <td>4</td>\n",
       "    </tr>\n",
       "    <tr>\n",
       "      <th>1</th>\n",
       "      <td>[Para, ninos, mas, pequenos, bebes, ninos, peq...</td>\n",
       "      <td>4</td>\n",
       "    </tr>\n",
       "    <tr>\n",
       "      <th>2</th>\n",
       "      <td>[Ademas, formacion, especialistas, medicina, g...</td>\n",
       "      <td>3</td>\n",
       "    </tr>\n",
       "    <tr>\n",
       "      <th>3</th>\n",
       "      <td>[En, paises, OCDE, tiende, pasar, cursos, obli...</td>\n",
       "      <td>4</td>\n",
       "    </tr>\n",
       "    <tr>\n",
       "      <th>4</th>\n",
       "      <td>[Este, grupo, centro, personas, padecen, trast...</td>\n",
       "      <td>3</td>\n",
       "    </tr>\n",
       "  </tbody>\n",
       "</table>\n",
       "</div>"
      ],
      "text/plain": [
       "                                              textos  labels\n",
       "0  [Aprendizaje, educacion, consideran, sinonimos...       4\n",
       "1  [Para, ninos, mas, pequenos, bebes, ninos, peq...       4\n",
       "2  [Ademas, formacion, especialistas, medicina, g...       3\n",
       "3  [En, paises, OCDE, tiende, pasar, cursos, obli...       4\n",
       "4  [Este, grupo, centro, personas, padecen, trast...       3"
      ]
     },
     "execution_count": 314,
     "metadata": {},
     "output_type": "execute_result"
    }
   ],
   "source": [
    "# Eliminar las stop words de la columna textos\n",
    "\n",
    "def eliminar_stopwords(texto):\n",
    "    stop_words = set(stopwords.words('spanish'))\n",
    "    nuevo_texto = [palabra for palabra in texto if palabra not in stop_words]\n",
    "    return nuevo_texto\n",
    "\n",
    "TrainData[\"textos\"]= TrainData[\"textos\"].apply(eliminar_stopwords)\n",
    "\n",
    "TrainData.head()\n"
   ]
  },
  {
   "cell_type": "markdown",
   "id": "3c1ce517",
   "metadata": {},
   "source": [
    "## Lematizar \n",
    "En esta fase reducimos las palabras a su forma base o raíz.  \n",
    "Por ejemplo, *educación*, *educar*, *eduquemos* → todas pasan a la raíz *educ*.\n",
    "\n",
    "- Evita que el modelo cuente como diferentes palabras aquellas que tienen la misma raíz.  \n",
    "- Mejora la representación en el Bag of Words, reduciendo la dimensionalidad.  \n",
    "- Permite que las frecuencias sean más representativas del concepto general.  \n",
    "\n",
    "**NOTA:**\n",
    "Inicialmente probamos con **spaCy**, que tiene un lematizador mucho más preciso (capaz de identificar la forma gramatical real de la palabra).  \n",
    "Sin embargo, tardó **más de 10 minutos en procesar el dataset completo**, lo que lo hacía inviable en este caso.  \n",
    "Por esa razón decidimos usar el **SnowballStemmer de NLTK**, que aunque es un *stemmer* (recorta palabras a su raíz sin tanto contexto gramatical), es mucho más rápido y suficiente para nuestros fines de clasificación.\n"
   ]
  },
  {
   "cell_type": "code",
   "execution_count": 315,
   "id": "0c424d0d",
   "metadata": {},
   "outputs": [
    {
     "name": "stdout",
     "output_type": "stream",
     "text": [
      "0    [aprendizaj, educ, consider, sinon, escolariz,...\n",
      "1    [par, nin, mas, pequen, beb, nin, pequen, capa...\n",
      "2    [adem, formacion, especial, medicin, general, ...\n",
      "3    [en, pais, ocde, tiend, pas, curs, obligatori,...\n",
      "4    [este, grup, centr, person, padec, trastorn, m...\n",
      "Name: textos, dtype: object\n"
     ]
    }
   ],
   "source": [
    "def lematizar_texto(tokens):\n",
    "    stemeador = SnowballStemmer(\"spanish\")\n",
    "    lematizados = [stemeador.stem(token) for token in tokens]\n",
    "    return lematizados\n",
    "\n",
    "\n",
    "TrainData[\"textos\"] = TrainData[\"textos\"].apply(lematizar_texto)\n",
    "print(TrainData[\"textos\"].head())"
   ]
  },
  {
   "cell_type": "markdown",
   "id": "5b546ed4",
   "metadata": {},
   "source": [
    "## BOW\n",
    "\n",
    "Convertimos cada documento en un vector de conteos: cuántas veces aparece cada palabra (del vocabulario) en ese texto.  \n",
    "Esto nos da una **matriz dispersa** (sparse) que los modelos pueden usar.\n",
    " \n",
    "- Es simple, rápido y efectivo para textos cortos/medios.  \n",
    "- Con el preprocesamiento (minúsculas, acentos, stopwords, stemming) el vocabulario queda más limpio y el modelo aprende mejor.\n",
    "\n",
    "**Parámetros clave de `CountVectorizer` que usamos:**\n",
    "- `token_pattern=r\"(?u)\\b[a-z]{2,}\\b\"`  \n",
    "  Solo acepta **tokens alfabéticos** de ≥2 letras (evitamos 1-letras y ruido).  \n",
    "- `min_df=3`  \n",
    "  Ignora palabras que aparecen en **menos de 3** documentos (ruido raro).  \n",
    "- `max_df=0.90`  \n",
    "  Ignora palabras que aparecen en **>90%** de los documentos (demasiado comunes).  \n",
    "- `ngram_range=(1, 2)`  \n",
    "  Incluye **unigramas** y **bigramas** (ej. “educacion”, “educacion inclusiva”). Los bigramas capturan un poco de contexto.  \n",
    "- `max_features=None`  \n",
    "  Sin límite explícito del vocabulario; dejamos que `min_df/max_df` lo controlen.\n",
    "\n",
    "\n",
    "  De esta manera intentamos limipiar lal mayor cantidd de ruido posible. \n",
    "\n",
    "  **NOTA IMPORTANTE**\n",
    "\n",
    "  EL VECTORIZADOR DE ESTA FASE ES EL QUE VAMOS A USAR EN EL TEST.. PUES ESTE VECTORIZADOR ESTÁ ENTRENADO CON EL DATASET DE ENTRENAMIENTO    ."
   ]
  },
  {
   "cell_type": "code",
   "execution_count": 316,
   "id": "13a55254",
   "metadata": {},
   "outputs": [
    {
     "name": "stdout",
     "output_type": "stream",
     "text": [
      "Número de palabras en el vocabulario: 10189\n",
      "Shape del BoW: (2424, 10189)\n"
     ]
    },
    {
     "data": {
      "text/html": [
       "<div>\n",
       "<style scoped>\n",
       "    .dataframe tbody tr th:only-of-type {\n",
       "        vertical-align: middle;\n",
       "    }\n",
       "\n",
       "    .dataframe tbody tr th {\n",
       "        vertical-align: top;\n",
       "    }\n",
       "\n",
       "    .dataframe thead th {\n",
       "        text-align: right;\n",
       "    }\n",
       "</style>\n",
       "<table border=\"1\" class=\"dataframe\">\n",
       "  <thead>\n",
       "    <tr style=\"text-align: right;\">\n",
       "      <th></th>\n",
       "      <th>abaj</th>\n",
       "      <th>abaj haci</th>\n",
       "      <th>abandon</th>\n",
       "      <th>abandon escol</th>\n",
       "      <th>abandon escuel</th>\n",
       "      <th>abandon estudi</th>\n",
       "      <th>abandon profesion</th>\n",
       "      <th>abarc</th>\n",
       "      <th>abiert</th>\n",
       "      <th>abog</th>\n",
       "      <th>...</th>\n",
       "      <th>xix</th>\n",
       "      <th>xx</th>\n",
       "      <th>xxi</th>\n",
       "      <th>ya</th>\n",
       "      <th>york</th>\n",
       "      <th>zeland</th>\n",
       "      <th>zon</th>\n",
       "      <th>zon remot</th>\n",
       "      <th>zon rural</th>\n",
       "      <th>zon urban</th>\n",
       "    </tr>\n",
       "  </thead>\n",
       "  <tbody>\n",
       "    <tr>\n",
       "      <th>0</th>\n",
       "      <td>0</td>\n",
       "      <td>0</td>\n",
       "      <td>0</td>\n",
       "      <td>0</td>\n",
       "      <td>0</td>\n",
       "      <td>0</td>\n",
       "      <td>0</td>\n",
       "      <td>0</td>\n",
       "      <td>0</td>\n",
       "      <td>0</td>\n",
       "      <td>...</td>\n",
       "      <td>0</td>\n",
       "      <td>0</td>\n",
       "      <td>0</td>\n",
       "      <td>0</td>\n",
       "      <td>0</td>\n",
       "      <td>0</td>\n",
       "      <td>0</td>\n",
       "      <td>0</td>\n",
       "      <td>0</td>\n",
       "      <td>0</td>\n",
       "    </tr>\n",
       "    <tr>\n",
       "      <th>1</th>\n",
       "      <td>0</td>\n",
       "      <td>0</td>\n",
       "      <td>0</td>\n",
       "      <td>0</td>\n",
       "      <td>0</td>\n",
       "      <td>0</td>\n",
       "      <td>0</td>\n",
       "      <td>0</td>\n",
       "      <td>0</td>\n",
       "      <td>0</td>\n",
       "      <td>...</td>\n",
       "      <td>0</td>\n",
       "      <td>0</td>\n",
       "      <td>0</td>\n",
       "      <td>0</td>\n",
       "      <td>0</td>\n",
       "      <td>0</td>\n",
       "      <td>0</td>\n",
       "      <td>0</td>\n",
       "      <td>0</td>\n",
       "      <td>0</td>\n",
       "    </tr>\n",
       "    <tr>\n",
       "      <th>2</th>\n",
       "      <td>0</td>\n",
       "      <td>0</td>\n",
       "      <td>0</td>\n",
       "      <td>0</td>\n",
       "      <td>0</td>\n",
       "      <td>0</td>\n",
       "      <td>0</td>\n",
       "      <td>0</td>\n",
       "      <td>0</td>\n",
       "      <td>0</td>\n",
       "      <td>...</td>\n",
       "      <td>0</td>\n",
       "      <td>0</td>\n",
       "      <td>0</td>\n",
       "      <td>0</td>\n",
       "      <td>0</td>\n",
       "      <td>0</td>\n",
       "      <td>0</td>\n",
       "      <td>0</td>\n",
       "      <td>0</td>\n",
       "      <td>0</td>\n",
       "    </tr>\n",
       "    <tr>\n",
       "      <th>3</th>\n",
       "      <td>0</td>\n",
       "      <td>0</td>\n",
       "      <td>0</td>\n",
       "      <td>0</td>\n",
       "      <td>0</td>\n",
       "      <td>0</td>\n",
       "      <td>0</td>\n",
       "      <td>0</td>\n",
       "      <td>1</td>\n",
       "      <td>0</td>\n",
       "      <td>...</td>\n",
       "      <td>0</td>\n",
       "      <td>0</td>\n",
       "      <td>0</td>\n",
       "      <td>0</td>\n",
       "      <td>0</td>\n",
       "      <td>0</td>\n",
       "      <td>0</td>\n",
       "      <td>0</td>\n",
       "      <td>0</td>\n",
       "      <td>0</td>\n",
       "    </tr>\n",
       "    <tr>\n",
       "      <th>4</th>\n",
       "      <td>0</td>\n",
       "      <td>0</td>\n",
       "      <td>0</td>\n",
       "      <td>0</td>\n",
       "      <td>0</td>\n",
       "      <td>0</td>\n",
       "      <td>0</td>\n",
       "      <td>0</td>\n",
       "      <td>0</td>\n",
       "      <td>0</td>\n",
       "      <td>...</td>\n",
       "      <td>0</td>\n",
       "      <td>0</td>\n",
       "      <td>0</td>\n",
       "      <td>0</td>\n",
       "      <td>0</td>\n",
       "      <td>0</td>\n",
       "      <td>0</td>\n",
       "      <td>0</td>\n",
       "      <td>0</td>\n",
       "      <td>0</td>\n",
       "    </tr>\n",
       "  </tbody>\n",
       "</table>\n",
       "<p>5 rows × 10189 columns</p>\n",
       "</div>"
      ],
      "text/plain": [
       "   abaj  abaj haci  abandon  abandon escol  abandon escuel  abandon estudi  \\\n",
       "0     0          0        0              0               0               0   \n",
       "1     0          0        0              0               0               0   \n",
       "2     0          0        0              0               0               0   \n",
       "3     0          0        0              0               0               0   \n",
       "4     0          0        0              0               0               0   \n",
       "\n",
       "   abandon profesion  abarc  abiert  abog  ...  xix  xx  xxi  ya  york  \\\n",
       "0                  0      0       0     0  ...    0   0    0   0     0   \n",
       "1                  0      0       0     0  ...    0   0    0   0     0   \n",
       "2                  0      0       0     0  ...    0   0    0   0     0   \n",
       "3                  0      0       1     0  ...    0   0    0   0     0   \n",
       "4                  0      0       0     0  ...    0   0    0   0     0   \n",
       "\n",
       "   zeland  zon  zon remot  zon rural  zon urban  \n",
       "0       0    0          0          0          0  \n",
       "1       0    0          0          0          0  \n",
       "2       0    0          0          0          0  \n",
       "3       0    0          0          0          0  \n",
       "4       0    0          0          0          0  \n",
       "\n",
       "[5 rows x 10189 columns]"
      ]
     },
     "execution_count": 316,
     "metadata": {},
     "output_type": "execute_result"
    }
   ],
   "source": [
    "# Vectorizar y generar el BoW\n",
    "\n",
    "def join_tokens(tokens):\n",
    "    return \" \".join(tokens)\n",
    "\n",
    "def entrenar_vectorizador(textos):\n",
    "    \"\"\"\n",
    "    textos: lista/Serie de strings (textos limpios)\n",
    "    \"\"\"\n",
    "    vectorizador = CountVectorizer(token_pattern=r\"(?u)\\b[a-z]{2,}\\b\", min_df=3, max_df=0.90, ngram_range=(1,2), max_features=None )\n",
    "    vectorizador.fit(textos)\n",
    "    return vectorizador\n",
    "\n",
    "def transformar_bow(vectorizador, textos):\n",
    "    bow = vectorizador.transform(textos)\n",
    "    return bow\n",
    "\n",
    "\n",
    "TrainData[\"textos\"] = TrainData[\"textos\"].apply(join_tokens)\n",
    "vectorizador_bow = entrenar_vectorizador(TrainData[\"textos\"])\n",
    "\n",
    "#ESTE ES EL QUE USAMOS  EN FORMATO DE MATRIZ DISPERSA DE SCIKIT-LEARN\n",
    "bow = transformar_bow(vectorizador_bow, TrainData[\"textos\"])\n",
    "\n",
    "X = bow\n",
    "y = TrainData[\"labels\"]\n",
    "\n",
    "# ESTOS DATOS SON IMPORTANTES PORQUE SON LOS QUE SE VAN A USAR PARA ENTRENADO Y PROBAR LOS MODELOS\n",
    "X_train, X_test, y_train, y_test = train_test_split(\n",
    "    X, y, test_size=0.25, random_state=42, stratify=y\n",
    ")\n",
    "\n",
    "#Lo paso a un DataFrame solo para visualización: \n",
    "\n",
    "print(\"Número de palabras en el vocabulario:\", len(vectorizador_bow.vocabulary_))\n",
    "print(\"Shape del BoW:\", bow.shape)\n",
    "#Pasarlo de una matriz de scipy a una array numpy y finalmente a un dataframe de pandas\n",
    "bowDF = pd.DataFrame(bow.toarray(), columns=vectorizador_bow.get_feature_names_out())\n",
    "bowDF.head()\n",
    "\n",
    "\n"
   ]
  },
  {
   "cell_type": "markdown",
   "id": "4785d6a8",
   "metadata": {},
   "source": [
    "## **Modelado** \n",
    "\n"
   ]
  },
  {
   "cell_type": "markdown",
   "id": "ad4c18d9",
   "metadata": {},
   "source": [
    "### Naive Bayes \n",
    "\n",
    "\n",
    "El modelo **Naive Bayes** es muy adecuado para clasificación de texto porque:  \n",
    "- Es rápido y eficiente incluso con vocabularios grandes.  \n",
    "- Se adapta naturalmente al **Bag of Words**, ya que trabaja con frecuencias y las interpreta como probabilidades.  \n",
    "- El suavizado de Laplace (`alpha`) evita que palabras poco frecuentes distorsionen el modelo.  \n",
    "\n",
    "**Para la clasificación de ODS**\n",
    "- Después de la **limpieza, tokenización, eliminación de stopwords y lematización**, el texto queda reducido a las palabras más representativas.  \n",
    "- Cada ODS tiene un **vocabulario característico**:  \n",
    "  - ODS 1: pobreza, desigualdad, recursos.  \n",
    "  - ODS 3: salud, enfermedades, mortalidad.  \n",
    "  - ODS 4: educación, formación, escolaridad.  \n",
    "  Bayes funciona bien cuando hay estas palabras clave que diferencian con claridad las clases.  \n",
    "- Con el **balanceo de clases** aseguramos que el modelo no se sesgue hacia la categoría mayoritaria.  \n",
    "\n",
    "**Metricas**\n",
    "\n",
    "Se eligió la **F1 macro** como métrica principal porque:  \n",
    "- Es la que se usará para evaluar los modelos (enunciado)\n",
    "- Combina **precisión**  y **recall** (qué tanto cubre de los casos reales).  \n",
    "- Así se puede balancear y garantizamos un rendimiento equilibrado en **todas las categorías** y no solo en la más frecuente.  \n",
    "\n",
    "**Síntesis**\n",
    "\n",
    "Con `GridSearchCV` optimizamos el `alpha` y obtuvimos un **F1 ≈ 0.97**, lo que confirma que el modelo es rápido, interpretable y muy efectivo para clasificar documentos según los ODS."
   ]
  },
  {
   "cell_type": "code",
   "execution_count": 317,
   "id": "dcca0072",
   "metadata": {},
   "outputs": [
    {
     "name": "stdout",
     "output_type": "stream",
     "text": [
      "Mejores hiperparámetros: {'alpha': 0.1}\n",
      "Mejor puntuación F1: 0.976712640405197\n"
     ]
    }
   ],
   "source": [
    "# Usamos multinomialNB con diferentes alpha\n",
    "\n",
    "# division de datos en bow\n",
    "#X_train, X_test, y_train, y_test = train_test_split (X, y, test_size=0.25, random_state=42, stratify=y). \n",
    "\n",
    "\n",
    "def naive_bayes(x,y):\n",
    "    \"x son los datos bow y las etiquetas y a es el alpha\"\n",
    "\n",
    "    alpha_grid = {\"alpha\": [0.05, 0.1,0.3, 0.5, 1.0, 2.0]}\n",
    "    cv = StratifiedKFold(n_splits=5, shuffle=True, random_state=42) # este bitcito hace cross validation\n",
    "\n",
    "    modelo = GridSearchCV(estimator = MultinomialNB(), param_grid = alpha_grid, scoring = \"f1_macro\",refit = \"f1_macro\", cv = cv, n_jobs = -1)\n",
    "    modelo.fit(x, y)\n",
    "    return modelo\n",
    "\n",
    "\n",
    "modelo_nb = naive_bayes(X_train, y_train)\n",
    "\n",
    "# Resultados del modelo entrenado\n",
    "print(\"Mejores hiperparámetros:\", modelo_nb.best_params_)\n",
    "print(\"Mejor puntuación F1:\", modelo_nb.best_score_)\n",
    "\n"
   ]
  },
  {
   "cell_type": "markdown",
   "id": "b87e5660",
   "metadata": {},
   "source": [
    "### Arboles de desicion "
   ]
  },
  {
   "cell_type": "markdown",
   "id": "a3d065cc",
   "metadata": {},
   "source": [
    "Para el proyecto, el uso de árboles es adecuado porque:\n",
    "- Facilita la interpretabilidad de los resultados, ya que establece reglas claras acerca de las palabras más relevantes que permiten clasificar cada opinión en su respectivo ODS.\n",
    "- Los árboles se adaptan bien a estructuras son representaciones dispersas con muchas columnas binarias o de conteo (caso del BOW) porque saben dividir según la presencia o ausencia de palabras.\n",
    "\n",
    "La construcción del modelo usando el algoritmo de Árboles de decisión se basa en el uso de GridSearch para probar varias configuraciones de hiperparámetros y determinar, entre dichas configuraciones, cuál es el mejor modelo para hallado con este algoritmo.\n",
    "Primero que todo, se fija la semilla en los modelos que se crean dentro de la grilla para que los resultados no se vean afectados por los cambios en la aleatoriedad del modelo para tomar ciertas decisiones.\n",
    "Además, en los parámetros de la grilla se establecen 5 hiperparámetros para los modelos de árboles de decisión con el fin de evaluar el rendimiento en las distintas configuraciones:\n",
    "- criterion: Define el criterio de impureza que usa el modelo para elegir los cortes que realiza en cada nodo del árbol\n",
    "- max_depth: Controla la profundidad máxima que puede tener el árbol resultante. Las opciones se varían desde poca profundidad, donde se puede incurrir en problemas de subajuste, hasta una profundidad sin restricciones, donde se puede incurrir en problemas de sobreajuste.\n",
    "- min_samples_split: Controla el mínimo número de muestras que se deben tener en un nodo para considerar dividirlo.\n",
    "- min_samples_leaf: Control cuánto es el menor número de muestras posible que pueden quedar en una hoja, un nodo resultante de una división de un nodo padre.\n",
    "- class_weight: Determina si se establece una ponderación para penalizar los errores de acuerdo con la frecuencia de las clases. El parámetro puede ser útil para el caso del proyecto si se considera el desbalanceo que hay en los datos de entrenamiento.\n",
    "\n",
    "Con esto en mente, la búsqueda en la grilla se realiza teniendo en cuenta que se quiere maximizar el f1-score (macro). La métrica escogida permite comprimir en una sola métrica la precisión (porcentaje de datos identificados como de cierta clase X que realmente son de la clase X) y el recall (porcentaje de datos de la clase X detectados como de la clase X). Además, se le da el mismo peso en cuanto a importancia a cada una de las clases al hacer un promedio simple de los f1-score de cada clase.\n",
    "\n",
    "Finalmente, la búsqueda en la grilla permite identificar que la mejor configuración para el modelo de árboles de decisión es:\n",
    "- criterion: Gini.\n",
    "- max_depth: 10.\n",
    "- min_samples_split: 20.\n",
    "- min_samples_leaf: 5.\n",
    "- class_weight: None.\n",
    "\n",
    "Con estos hiperparámetros se consigue un f1-score macro en train de 0,9295. Asimismo, resulta relevante resaltar que la mejor configuración no controla el desbalanceo de clases, permite una profundidad del árbol relativamente alta, previene realizar divisiones en nodos con pocas muestras y suaviza el árbol al garantizar que en cada nodo queden al menos 5 muestras.\n"
   ]
  },
  {
   "cell_type": "code",
   "execution_count": 318,
   "id": "b9bf8ca0",
   "metadata": {},
   "outputs": [
    {
     "name": "stdout",
     "output_type": "stream",
     "text": [
      "Mejores hiperparámetros: {'class_weight': None, 'criterion': 'gini', 'max_depth': 10, 'min_samples_leaf': 5, 'min_samples_split': 20}\n",
      "Mejor score de CV (f1-score): 0.9295\n"
     ]
    }
   ],
   "source": [
    "def arbol(x,y,param_grid):\n",
    "    grid = GridSearchCV(\n",
    "        estimator=DecisionTreeClassifier(random_state=42),\n",
    "        param_grid=param_grid,\n",
    "        scoring='f1_macro',\n",
    "        cv=StratifiedKFold(n_splits=5, shuffle=True, random_state=42),\n",
    "        n_jobs=-1,\n",
    "        refit=True,\n",
    "        verbose=0\n",
    "    )\n",
    "    grid.fit(x,y)\n",
    "    return grid\n",
    "\n",
    "param_grid = {\n",
    "    'criterion': ['gini', 'entropy'],\n",
    "    'max_depth': [None, 2, 3, 4, 5, 6, 8, 10],\n",
    "    'min_samples_split': [2, 5, 10, 20],\n",
    "    'min_samples_leaf': [1, 2, 3, 5, 10],\n",
    "    'class_weight': [None, 'balanced']\n",
    "}\n",
    "modelo_arboles = arbol(X_train, y_train,param_grid)\n",
    "print(\"Mejores hiperparámetros:\", modelo_arboles.best_params_)\n",
    "print(\"Mejor score de CV (f1-score):\", round(modelo_arboles.best_score_, 4))"
   ]
  },
  {
   "cell_type": "markdown",
   "id": "67e9f8ce",
   "metadata": {},
   "source": [
    "### KNN\n",
    "\n",
    "El modelo **KNN (k-Nearest Neighbors)** es muy adecuado para clasificación de texto cuando representamos los documentos en un espacio TF-IDF con normalización L2:  \n",
    "- Entrenamiento inmediato.  \n",
    "- Decide por vecindad, documentos cercanos comparten vocabulario/tema o en este caso el ODS.  \n",
    "- Encaja bien con TF-IDF+L2 pues en estos casos la similitud del lenguaje se vuelve geometrìa distancia entre vectores y demás.  \n",
    "\n",
    "**Para la clasificación de ODS**\n",
    "- Después de la **limpieza, tokenización, eliminación de stopwords y lematización**, el texto queda reducido a las palabras más representativas y cada texto se vectoriza con TF-IDF y normaliza con L2.  \n",
    "- Cada ODS tiene un **vocabulario característico**:  \n",
    "  - ODS 1: pobreza, desigualdad, recursos.  \n",
    "  - ODS 3: salud, enfermedades, mortalidad.  \n",
    "  - ODS 4: educación, formación, escolaridad.   \n",
    "- **KNN** captura esos patrones porque compara qué terminos y con qué pesos aparecen en cada documento y así busca los más parecidos  \n",
    "\n",
    "**Qué hace TF-IDF+L2**\n",
    "- Da más pesos a términos que son más informativos o menos frecuentes y menos pesos a los que son muy frecuentes.\n",
    "- \"l2\" normaliza cada documento a norma 1.\n",
    "\n",
    "**Por qué se usa el pipeline como estimador en GridSearchCV**\n",
    "- Evita el leakage\n",
    "- Es la forma correcta de garantiza validación y despliegue sencillo\n",
    "\n",
    "**Hiperparámetros**\n",
    "- **\"knn__n_neighboors\"**: Controla sesgo y varianza entre el k sea muy pequeño es muy flexible mientras que si el k es grande suele ser más estable y suaviza el ruido. Se prueba con un rango amplio e impar.\n",
    "- **\"knn__weigths\"**: uniform indica que todos los vecinos pesan igual mientras que distance le brinda más peso al vecino más cercano. \n",
    "- **\"knn__metric\" y \"knn__p\"**: Minkowski con p1 que indica que es Manhatan solo funciona como si te moviera en distancias ortogonales mientras que la Euclidiana como si te moviera con una linea recta hacia el otro vecino.\n",
    "\n",
    "**Métricas**\n",
    "Se eligió la **F1 macro** como métrica principal porque:  \n",
    "- Combina **precisión**  y **recall** (qué tanto cubre de los casos reales).  \n",
    "- Métrica solicitada para evaluar el proyecto.  \n",
    "\n",
    "**Síntesis**\n",
    "Modelé con KNN porque con documentos en TF-IDF+L2, la proximidad refleja similitud semántica de forma clara. Para evitar fugas y poder ajustar también el preprocesamiento, encapsulé TF-IDF y KNN en un Pipeline y lo pasé a GridSearchCV con f1_macro. La búsqueda seleccionó k=21, weights='distance' y p=2, logrando un F1-macro de CV ≈ 0.97."
   ]
  },
  {
   "cell_type": "code",
   "execution_count": 23,
   "id": "604a4f11",
   "metadata": {},
   "outputs": [
    {
     "name": "stdout",
     "output_type": "stream",
     "text": [
      "Mejores hiperparámetros: {'knn__metric': 'minkowski', 'knn__n_neighbors': 21, 'knn__p': 2, 'knn__weights': 'distance'}\n",
      "Mejor score de CV (f1-score): 0.9771\n"
     ]
    }
   ],
   "source": [
    "def knn(x,y,param_grid, pipe):\n",
    "\n",
    "  grid_knn = GridSearchCV(\n",
    "    estimator=pipe,\n",
    "    param_grid=param_grid,\n",
    "    scoring=\"f1_macro\",\n",
    "    cv=StratifiedKFold(n_splits=5, shuffle=True, random_state=42),\n",
    "    n_jobs=-1,\n",
    "    refit=True,\n",
    "    verbose=0\n",
    "  )\n",
    "\n",
    "  grid_knn.fit(x, y)\n",
    "\n",
    "  return grid_knn\n",
    "\n",
    "pipe_knn = Pipeline([\n",
    "    (\"tfidf\", TfidfTransformer(use_idf=True, sublinear_tf=True, norm=\"l2\")),\n",
    "    (\"knn\", KNeighborsClassifier())\n",
    "])\n",
    "\n",
    "param_grid_knn = {\n",
    "    \"knn__n_neighbors\": [1, 3, 5, 7, 11, 15, 21, 31],\n",
    "    \"knn__weights\": [\"uniform\", \"distance\"],\n",
    "    \"knn__metric\": [\"minkowski\"],\n",
    "    \"knn__p\": [1, 2],\n",
    "}\n",
    "\n",
    "modelo_knn = knn(X_train,y_train,param_grid_knn,pipe_knn)\n",
    "print(\"Mejores hiperparámetros:\", modelo_knn.best_params_)\n",
    "print(\"Mejor score de CV (f1-score):\", round(modelo_knn.best_score_, 4))"
   ]
  },
  {
   "cell_type": "markdown",
   "id": "f1f170e0",
   "metadata": {},
   "source": [
    "### Función para evaluar los modelos con datos de test"
   ]
  },
  {
   "cell_type": "markdown",
   "id": "acaf6f31",
   "metadata": {},
   "source": [
    "La siguiente función implementada se encarga de calcular las métricas de rendimiento de cada uno de los modelos entrenados, pero ahora usando los datos de test, con el objetivo de comparar en condiciones insesgadas los modelos."
   ]
  },
  {
   "cell_type": "code",
   "execution_count": 320,
   "id": "782cade9",
   "metadata": {},
   "outputs": [],
   "source": [
    "def evaluar_modelo(clf, X_test, y_test, titulo=\"Modelo\", feature_names=None):\n",
    "    y_pred = clf.predict(X_test)\n",
    "\n",
    "    # Accuracy\n",
    "    acc = accuracy_score(y_test, y_pred)\n",
    "    f1_macro = f1_score(y_test, y_pred, average=\"macro\")\n",
    "    print(f\"\\n=== {titulo} ===\")\n",
    "    print(\"Accuracy (test):\", round(acc, 4))\n",
    "    print(\"F1-macro (test):\", round(f1_macro, 4))\n",
    "\n",
    "    # Reporte de clasificación dinámico\n",
    "    labels = np.unique(y_test)\n",
    "    print(\"\\nReporte de clasificación:\")\n",
    "    print(classification_report(y_test, y_pred, target_names=[str(l) for l in labels]))\n",
    "\n",
    "    # Matriz de confusión\n",
    "    cm = confusion_matrix(y_test, y_pred, labels=labels)\n",
    "    disp = ConfusionMatrixDisplay(confusion_matrix=cm, display_labels=labels)\n",
    "    fig, ax = plt.subplots(figsize=(5, 4))\n",
    "    disp.plot(ax=ax, colorbar=False, cmap=\"Blues\")\n",
    "    plt.title(f\"Matriz de confusión — {titulo}\")\n",
    "    plt.show()\n",
    "\n",
    "    # Importancia de características (si el modelo lo permite)\n",
    "    importances = getattr(clf, \"feature_importances_\", None)\n",
    "    if importances is not None:\n",
    "        try:\n",
    "            importances = pd.Series(importances, index=feature_names).sort_values(ascending=False)\n",
    "            plt.figure(figsize=(8, 5))\n",
    "            importances.head(12).plot(kind='bar')\n",
    "            plt.title(f\"Top 12 Importancias — {titulo}\")\n",
    "            plt.xlabel(\"Características\")\n",
    "            plt.ylabel(\"Importancia\")\n",
    "            plt.tight_layout()\n",
    "            plt.show()\n",
    "        except Exception:\n",
    "            pass\n",
    "    \n",
    "feature_names = vectorizador_bow.get_feature_names_out()"
   ]
  },
  {
   "cell_type": "markdown",
   "id": "d53d32f9",
   "metadata": {},
   "source": [
    "### Evaluación modelo Naive Bayes"
   ]
  },
  {
   "cell_type": "code",
   "execution_count": 321,
   "id": "d9733e57",
   "metadata": {},
   "outputs": [
    {
     "name": "stdout",
     "output_type": "stream",
     "text": [
      "\n",
      "=== Modelo con Naive Bayes ===\n",
      "Accuracy (test): 0.962\n",
      "F1-macro (test): 0.9578\n",
      "\n",
      "Reporte de clasificación:\n",
      "              precision    recall  f1-score   support\n",
      "\n",
      "           1       0.94      0.94      0.94       126\n",
      "           3       0.96      0.97      0.96       224\n",
      "           4       0.98      0.97      0.97       256\n",
      "\n",
      "    accuracy                           0.96       606\n",
      "   macro avg       0.96      0.96      0.96       606\n",
      "weighted avg       0.96      0.96      0.96       606\n",
      "\n"
     ]
    },
    {
     "data": {
      "image/png": "[encoded data removed]",
      "text/plain": [
       "<Figure size 500x400 with 1 Axes>"
      ]
     },
     "metadata": {},
     "output_type": "display_data"
    }
   ],
   "source": [
    "evaluar_modelo(modelo_nb.best_estimator_,X_test,y_test,\"Modelo con Naive Bayes\",feature_names)"
   ]
  },
  {
   "cell_type": "markdown",
   "id": "c27cb22e",
   "metadata": {},
   "source": [
    "\n",
    "El modelo con NaiveBayes:\n",
    "- Alcanza un f1-score macro bastante alto de 0,9578, muy cercano a 1. Por tal motivo, el modelo tiene un excelente rendimiento. Logra en general ser muy preciso con sus predicciones y, además, es muy exacto para detectar las opiniones correspondientes a los 3 ODS.\n",
    "- Tiene un f1-score alto para cada una de las categorías, lo cual se traduce en un f1-score macro alto. En este orden de ideas, el modelo tiene un excelente rendimiento para clasificar correctamente las opiniones en su respectivo ODS, sin importar el ODS, es decir, no se está viendo afectado por el desbalanceo de clases. En otras palabras, sin importar a cuál ODS pertenece una opinión, el modelo en general tiene un buen rendimiento para clasificar la opinión en su correcto ODS.\n"
   ]
  },
  {
   "cell_type": "markdown",
   "id": "4d84820b",
   "metadata": {},
   "source": [
    "### Evaluación modelo Árboles de decisión"
   ]
  },
  {
   "cell_type": "code",
   "execution_count": 322,
   "id": "55f15a46",
   "metadata": {},
   "outputs": [
    {
     "name": "stdout",
     "output_type": "stream",
     "text": [
      "\n",
      "=== Modelo con Árboles de decisión ===\n",
      "Accuracy (test): 0.8878\n",
      "F1-macro (test): 0.8788\n",
      "\n",
      "Reporte de clasificación:\n",
      "              precision    recall  f1-score   support\n",
      "\n",
      "           1       0.88      0.80      0.84       126\n",
      "           3       0.84      0.91      0.87       224\n",
      "           4       0.94      0.91      0.93       256\n",
      "\n",
      "    accuracy                           0.89       606\n",
      "   macro avg       0.89      0.87      0.88       606\n",
      "weighted avg       0.89      0.89      0.89       606\n",
      "\n"
     ]
    },
    {
     "data": {
      "image/png": "[encoded data removed]",
      "text/plain": [
       "<Figure size 500x400 with 1 Axes>"
      ]
     },
     "metadata": {},
     "output_type": "display_data"
    },
    {
     "data": {
      "image/png": "[encoded data removed]",
      "text/plain": [
       "<Figure size 800x500 with 1 Axes>"
      ]
     },
     "metadata": {},
     "output_type": "display_data"
    }
   ],
   "source": [
    "evaluar_modelo(modelo_arboles.best_estimator_,X_test,y_test,\"Modelo con Árboles de decisión\",feature_names)"
   ]
  },
  {
   "cell_type": "markdown",
   "id": "3f7a38db",
   "metadata": {},
   "source": [
    "El modelo con Árboles de decisión:\n",
    "- De acuerdo con su f1-score macro de 0,8788, el modelo también está siendo preciso y exacto para realizar sus predicciones, pero no más que el modelo con Naive Bayes.\n",
    "- Individualmente, el modelo tiene un excelente rendimiento en cuanto a precisión y exactitud en sus predicciones de opiniones que pertenecen al ODS 4 (ODS con más observaciones en el dataset). Sin embargo, su rendimiento no es tan alto para los ODS 1 y 3, por lo que, el rendimiento del modelo se está viendo afectado por el desbalanceo de clases. Este cambio en el rendimiento del modelo para cada clase se ve traducido en un f1-score macro menor al del modelo de Naive Bayes.\n",
    "- Un valor agregado que brinda este modelo es que permite identificar, en este caso, las palabras que están tomando mayor importancia para clasificar cada una de las opiniones. En este orden de ideas, la gráfica que muestra el top 12 de las palabras más relevantes, muestra claramente que las palabras con mayor importancia son las que representan el enfoque principal de cada ODS: pobreza (ODS 1 es “Fin de la pobreza”), salud (ODS 3 es “Salud y bienestar”) y educación (ODS 4 es “Educación de calidad”).\n",
    "- Las demás palabras con mayor importancia son palabras fuertemente relacionadas a dicho enfoque de los ODS: desfavorecimiento, protección social, atención primaria, escuela, estudio, alumno, profesor, docente.\n"
   ]
  },
  {
   "cell_type": "markdown",
   "id": "e8eeb35b",
   "metadata": {},
   "source": [
    "### Evaluación modelo KNN"
   ]
  },
  {
   "cell_type": "code",
   "execution_count": 323,
   "id": "cb65c6a3",
   "metadata": {},
   "outputs": [
    {
     "name": "stdout",
     "output_type": "stream",
     "text": [
      "\n",
      "=== Modelo con KNN ===\n",
      "Accuracy (test): 0.9505\n",
      "F1-macro (test): 0.9457\n",
      "\n",
      "Reporte de clasificación:\n",
      "              precision    recall  f1-score   support\n",
      "\n",
      "           1       0.95      0.90      0.92       126\n",
      "           3       0.94      0.96      0.95       224\n",
      "           4       0.96      0.96      0.96       256\n",
      "\n",
      "    accuracy                           0.95       606\n",
      "   macro avg       0.95      0.94      0.95       606\n",
      "weighted avg       0.95      0.95      0.95       606\n",
      "\n"
     ]
    },
    {
     "data": {
      "image/png": "[encoded data removed]",
      "text/plain": [
       "<Figure size 500x400 with 1 Axes>"
      ]
     },
     "metadata": {},
     "output_type": "display_data"
    }
   ],
   "source": [
    "evaluar_modelo(modelo_knn.best_estimator_,X_test,y_test,\"Modelo con KNN\",feature_names)"
   ]
  },
  {
   "cell_type": "markdown",
   "id": "ff49d26a",
   "metadata": {},
   "source": [
    "El modelo con KNN:\n",
    "- Tiene un f1-score macro de 0,9457. Tiene un rendimiento similar (levemente menor) al del modelo con Naive Bayes. Igualmente, el modelo es muy preciso con las predicciones que realiza, es decir, un alto porcentaje de las predicciones que realiza son correctas. Además, el modelo logra detectar con una alte exactitud la clasificación correcta de las opiniones.\n",
    "- Al igual que el modelo con Naive Bayes, tiene un rendimiento alto y equilibrado para los ODS 1, 3 y 4. En otras palabras, el rendimiento del modelo no disminuye considerablemente para clasificar opiniones en cada una de las clases (en cada uno de los ODS).\n"
   ]
  },
  {
   "cell_type": "markdown",
   "id": "7ef6adf3",
   "metadata": {},
   "source": [
    "## Resultados"
   ]
  },
  {
   "cell_type": "markdown",
   "id": "bf23e8bc",
   "metadata": {},
   "source": [
    "- Tras evaluar cada uno de los 3 modelos con los datos de test, se concluye que el mejor modelo es el modelo de Naive Bayes con un alpha (hiperparámetro) de 0,3.\n",
    "- La elección del mejor modelo se determina de acuerdo al f1-score macro de cada uno. EL f1-score macro máximo conseguido con Naive Bayes es de 0,9578.\n",
    "- Independientemente de cuál es el ODS al cual pertenece una opinión, el mejor modelo hallado es preciso en sus predicciones, es decir, un alto porcentaje de sus predicciones para cada ODS realmente es correcto. Asimismo, el modelo, para cada ODS, logra detectar la mayoría de opiniones que pertenecen a cada ODS."
   ]
  },
  {
   "cell_type": "markdown",
   "id": "50c1e2f3",
   "metadata": {},
   "source": [
    "### ¿Cómo aporta el mejor modelo a la consecución de los objetivos de negocio?"
   ]
  },
  {
   "cell_type": "markdown",
   "id": "8a3d45d9",
   "metadata": {},
   "source": [
    "- Un modelo con buen F1-score asegura que la clasificación de opiniones es consistente y equilibrada. Esto significa que los reportes y dashboards que se construyan a partir de estas etiquetas reflejarán de manera más fiel la realidad.\n",
    "- Si se clasifican bien las opiniones, la organización puede priorizar acciones en los ODS que realmente importan (ej. enfocar campañas en educación o igualdad, según los datos).\n",
    "- Un buen macro-F1 implica que todas las categorías (ODS) se tratan con la misma importancia, lo que evita sesgos. Esto fortalece la credibilidad del análisis y facilita la alineación con políticas públicas o estrategias de sostenibilidad."
   ]
  },
  {
   "cell_type": "markdown",
   "id": "4b4b0776",
   "metadata": {},
   "source": [
    "### Palabras identificadas"
   ]
  },
  {
   "cell_type": "markdown",
   "id": "065067aa",
   "metadata": {},
   "source": [
    "- Las palabras que toman mayor relevancia para la clasificación, con base en los resultados proporcionados por el modelo de Árboles de decisión, son pobreza, salud y educación. \n",
    "- Las palabras de mayor importancia son las que representan el enfoque de los ODS 1, 3 y 4.\n",
    "- Otras palabras con importancia y que aportan más información para la generación de políticas son: para el ODS 1, desfavorecimiento y protección social; para el ODS 3, escuela, profesor y alumno; y para el ODS 4, atención primaria.\n"
   ]
  },
  {
   "cell_type": "markdown",
   "id": "23bafe04",
   "metadata": {},
   "source": [
    "### Posibles estrategias"
   ]
  },
  {
   "cell_type": "markdown",
   "id": "e464c3da",
   "metadata": {},
   "source": [
    "- ODS 1:\n",
    "  - Diseñar campañas que informen y faciliten el acceso a subsidios, ayudas directas o programas de empleo para comunidades en situación de vulnerabilidad.\n",
    "  - Utilizar la información de percepciones ciudadanas para identificar zonas o grupos sociales donde el desfavorecimiento es más recurrente y priorizar políticas diferenciadas.\n",
    "- ODS 3:\n",
    "  - Invertir en la mejora de centros de salud básicos, con énfasis en accesibilidad y calidad de los servicios preventivos.\n",
    "- ODS 4:\n",
    "  - Invertir en formación continua de profesores y en la modernización de infraestructuras escolares."
   ]
  },
  {
   "cell_type": "markdown",
   "id": "3f864d98",
   "metadata": {},
   "source": [
    "\n",
    "La información presentada es útil para la organización porque permite traducir los hallazgos del modelo en acciones concretas vinculadas con la realidad social percibida. Además, le permite a la organización priorizar recursos en los ámbitos más sensibles para la ciudadanía. De igual forma, permite que la organización fortalezca la legitimidad institucional, mostrando que las políticas responden a necesidades expresadas directamente por la población.\n"
   ]
  },
  {
   "cell_type": "markdown",
   "id": "ec0fb120",
   "metadata": {},
   "source": [
    "## Predicciones del mejor modelo\n",
    "Ahora si vamos a usar el modelo elegido para hacer las predicciones con el dataset.\n"
   ]
  },
  {
   "cell_type": "code",
   "execution_count": 324,
   "id": "da06cc88",
   "metadata": {},
   "outputs": [],
   "source": [
    "# Preparamos los datos de prueba y el pipeline para su procesamiento\n",
    "def ProcesarTestData(ruta,vectorizador):\n",
    "    \"este pipeline procesa los datos de prueba y los deja listos para predecir, evita hacer pasos que no tiene que hacer.\"\n",
    "    # Importar la data de prueba\n",
    "    TestData = pd.read_excel(ruta)\n",
    "    TestData[\"textos\"] = TestData[\"Textos_espanol\"]\n",
    "\n",
    "    # Convertir a string\n",
    "    TestData[\"textos\"] = TestData[\"textos\"].astype(str)\n",
    "    TestData[\"textos\"] = TestData[\"textos\"].fillna(\"\").astype(str)\n",
    "\n",
    "    # Aplicar limpieza básica (mayusculas,acentos,puntuacion))\n",
    "    TestData[\"textos\"] = TestData[\"textos\"].apply(eliminar_mayusculas)\n",
    "    TestData[\"textos\"] = TestData[\"textos\"].apply(eliminar_acentos)\n",
    "    TestData[\"textos\"] = TestData[\"textos\"].apply(limpiar_puntuacion)\n",
    "    \n",
    "    # Tokenización\n",
    "    TestData[\"textos\"] = TestData[\"textos\"].apply(tokenizar)\n",
    "\n",
    "    # Eliminar stopwords\n",
    "    TestData[\"textos\"] = TestData[\"textos\"].apply(eliminar_stopwords)\n",
    "\n",
    "    # Lematizar \n",
    "    TestData[\"textos\"] = TestData[\"textos\"].apply(lematizar_texto)\n",
    "\n",
    "    # Generar bow \n",
    "    TestData[\"textos\"] = TestData[\"textos\"].apply(join_tokens)\n",
    "    TestData_bow = transformar_bow(vectorizador, TestData[\"textos\"])\n",
    "\n",
    "    return TestData,TestData_bow\n",
    "\n",
    "TestData,Test_bow = ProcesarTestData(\"../data/Datos de prueba_proyecto.xlsx\", vectorizador_bow)"
   ]
  },
  {
   "cell_type": "markdown",
   "id": "7a3f628c",
   "metadata": {},
   "source": [
    "Se procede a etiquetar los datos."
   ]
  },
  {
   "cell_type": "code",
   "execution_count": 325,
   "id": "b1607943",
   "metadata": {},
   "outputs": [],
   "source": [
    "#Predecir etiquetas\n",
    "predicciones = modelo_nb.best_estimator_.predict(Test_bow)\n",
    "\n",
    "#Guardar resultados en un nuevo Excel\n",
    "TestData[\"labels\"] = predicciones\n",
    "TestData = TestData.drop(columns=[\"textos\"])\n",
    "TestData.to_excel(\"../data/textos_etiquetados.xlsx\", index=False)"
   ]
  }
 ],
 "metadata": {
  "kernelspec": {
   "display_name": "Python (BI)",
   "language": "python",
   "name": "bi"
  },
  "language_info": {
   "codemirror_mode": {
    "name": "ipython",
    "version": 3
   },
   "file_extension": ".py",
   "mimetype": "text/x-python",
   "name": "python",
   "nbconvert_exporter": "python",
   "pygments_lexer": "ipython3",
   "version": "3.9.6"
  }
 },
 "nbformat": 4,
 "nbformat_minor": 5
}
