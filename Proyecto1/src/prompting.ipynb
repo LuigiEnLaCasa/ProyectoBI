{
 "cells": [
  {
   "cell_type": "markdown",
   "id": "e2148e50",
   "metadata": {},
   "source": [
    "# Prompting y comparación de modelos"
   ]
  },
  {
   "cell_type": "markdown",
   "id": "823f25b0",
   "metadata": {},
   "source": [
    "La evaluación y comparación de modelos en esta etapa, al igual que en la etapa 1, se basan en el análisis de la métrica f1-score macro. Del mismo modo, se usa la métrica de precisión macro y el recall macro para profundizar en el análisis de la métrica principal sobre el rendimiento de los modelos."
   ]
  },
  {
   "cell_type": "markdown",
   "id": "0b889578",
   "metadata": {},
   "source": [
    "### Importaciones"
   ]
  },
  {
   "cell_type": "code",
   "execution_count": 1,
   "id": "0ffaee23",
   "metadata": {},
   "outputs": [],
   "source": [
    "import sys, os\n",
    "sys.path.append(os.path.abspath(os.path.join(os.getcwd(), '..')))\n",
    "\n",
    "import evaluate as e   \n",
    "import pandas as pd\n",
    "import pipeline as p\n",
    "from sklearn.model_selection import train_test_split"
   ]
  },
  {
   "cell_type": "markdown",
   "id": "82793db1",
   "metadata": {},
   "source": [
    "## Evaluación modelo etapa 1"
   ]
  },
  {
   "cell_type": "markdown",
   "id": "ddb85aa2",
   "metadata": {},
   "source": [
    "Para la evvaluación del modelo de la etapa 1, se usan los datos dados para la etapa 2 como datos de test. Asimismo, se usan los archivos .py creados en el directorio src para facilitar la implementación de la evaluación."
   ]
  },
  {
   "cell_type": "code",
   "execution_count": 2,
   "id": "9431c1d6",
   "metadata": {},
   "outputs": [
    {
     "data": {
      "text/plain": [
       "{'n_samples': 99,\n",
       " 'accuracy': 0.9090909090909091,\n",
       " 'precision_macro': 0.9261904761904761,\n",
       " 'recall_macro': 0.8959763750461424,\n",
       " 'f1_macro': 0.9063501891984864,\n",
       " 'f1_micro': 0.9090909090909091,\n",
       " 'f1_weighted': 0.9089053590601577}"
      ]
     },
     "execution_count": 2,
     "metadata": {},
     "output_type": "execute_result"
    }
   ],
   "source": [
    "e.evaluate_model_on_file(\"model_nb_etapa1.pkl\",\"Datos_etapa 2.xlsx\",\"textos\",\"labels\")"
   ]
  },
  {
   "cell_type": "markdown",
   "id": "a292a6b5",
   "metadata": {},
   "source": [
    "## Prompting"
   ]
  },
  {
   "cell_type": "markdown",
   "id": "e88b6871",
   "metadata": {},
   "source": [
    "En primer lugar, se hace el cálculo de cuántos datos se cuentan para cada uno de los ODS en el nuevo dataset de la etapa 2.\n",
    "De este modo, se observa lo siguiente para los datos de la etapa 2: 21 datos para ODS 1, 35 datos para ODS 3 y 43 datos para ODS 4. En este orden de ideas; al tener en cuenta que en los datos de la etapa 1 se tienen 505 datos para ODS 1, 894 para ODS 3 y 1025 para ODS 4; se tienen en total 1068 datos para el ODS 4 que es el de mayor cantidad de datos. Así, el objetivo del prompting realizado es balancear las clases del dataset, de tal forma que, al menos cada clase tenga más de 1000 datos. Asimismo, se espera que, al tener un dataset resultante balanceado, se consiga un modelo con mejores métricas después del reentrenamiento. Por último, es importante mencionar que los datos retornados por el prompting se almacenaron en el archvio \"DatosParciales.xlsx\" en la carpeta data del proyecto. Asimismo, el archivo usado para el prompting fue el archivo proporcionado en la práctica de generación de datos."
   ]
  },
  {
   "cell_type": "code",
   "execution_count": 3,
   "id": "d15840c3",
   "metadata": {},
   "outputs": [
    {
     "data": {
      "text/html": [
       "<div>\n",
       "<style scoped>\n",
       "    .dataframe tbody tr th:only-of-type {\n",
       "        vertical-align: middle;\n",
       "    }\n",
       "\n",
       "    .dataframe tbody tr th {\n",
       "        vertical-align: top;\n",
       "    }\n",
       "\n",
       "    .dataframe thead th {\n",
       "        text-align: right;\n",
       "    }\n",
       "</style>\n",
       "<table border=\"1\" class=\"dataframe\">\n",
       "  <thead>\n",
       "    <tr style=\"text-align: right;\">\n",
       "      <th></th>\n",
       "      <th>textos</th>\n",
       "      <th>labels</th>\n",
       "    </tr>\n",
       "  </thead>\n",
       "  <tbody>\n",
       "    <tr>\n",
       "      <th>0</th>\n",
       "      <td>La definición de privación está basada en el m...</td>\n",
       "      <td>1</td>\n",
       "    </tr>\n",
       "    <tr>\n",
       "      <th>1</th>\n",
       "      <td>La mayoría de los programas de protección soci...</td>\n",
       "      <td>1</td>\n",
       "    </tr>\n",
       "    <tr>\n",
       "      <th>2</th>\n",
       "      <td>Esto es dos veces y media mayor que la partici...</td>\n",
       "      <td>1</td>\n",
       "    </tr>\n",
       "    <tr>\n",
       "      <th>3</th>\n",
       "      <td>El enfoque aquí está en los aspectos de la pob...</td>\n",
       "      <td>1</td>\n",
       "    </tr>\n",
       "    <tr>\n",
       "      <th>4</th>\n",
       "      <td>El factor educativo representa una mayor contr...</td>\n",
       "      <td>1</td>\n",
       "    </tr>\n",
       "  </tbody>\n",
       "</table>\n",
       "</div>"
      ],
      "text/plain": [
       "                                              textos  labels\n",
       "0  La definición de privación está basada en el m...       1\n",
       "1  La mayoría de los programas de protección soci...       1\n",
       "2  Esto es dos veces y media mayor que la partici...       1\n",
       "3  El enfoque aquí está en los aspectos de la pob...       1\n",
       "4  El factor educativo representa una mayor contr...       1"
      ]
     },
     "execution_count": 3,
     "metadata": {},
     "output_type": "execute_result"
    }
   ],
   "source": [
    "data0 = pd.read_excel(\"../data/test/Datos_etapa 2.xlsx\")\n",
    "data0.head()"
   ]
  },
  {
   "cell_type": "code",
   "execution_count": 4,
   "id": "1cd00709",
   "metadata": {},
   "outputs": [
    {
     "data": {
      "text/plain": [
       "(99, 2)"
      ]
     },
     "execution_count": 4,
     "metadata": {},
     "output_type": "execute_result"
    }
   ],
   "source": [
    "data0.shape"
   ]
  },
  {
   "cell_type": "code",
   "execution_count": 5,
   "id": "f326383b",
   "metadata": {},
   "outputs": [
    {
     "name": "stdout",
     "output_type": "stream",
     "text": [
      "Cuenta del número de entradas por cada ODS\n",
      "        cuenta\n",
      "labels        \n",
      "1           21\n",
      "3           35\n",
      "4           43\n"
     ]
    }
   ],
   "source": [
    "ods_entradas = data0[\"labels\"].value_counts().sort_index()\n",
    "print(\"Cuenta del número de entradas por cada ODS\")\n",
    "print(ods_entradas.to_frame(\"cuenta\"))"
   ]
  },
  {
   "cell_type": "code",
   "execution_count": 6,
   "id": "952bada5",
   "metadata": {},
   "outputs": [],
   "source": [
    "data1 = pd.read_excel(\"../data/train/Datos_etapa1.xlsx\")"
   ]
  },
  {
   "cell_type": "code",
   "execution_count": 7,
   "id": "66a22b05",
   "metadata": {},
   "outputs": [],
   "source": [
    "data2 = pd.read_excel(\"../data/DatosParciales.xlsx\")"
   ]
  },
  {
   "cell_type": "markdown",
   "id": "a03870a9",
   "metadata": {},
   "source": [
    "A continuación, se unen los datos brindados para la etapa 2, los datos brindados por el prompting y los datos de la etapa 1."
   ]
  },
  {
   "cell_type": "code",
   "execution_count": 8,
   "id": "de31bd58",
   "metadata": {},
   "outputs": [
    {
     "data": {
      "text/plain": [
       "(3168, 2)"
      ]
     },
     "execution_count": 8,
     "metadata": {},
     "output_type": "execute_result"
    }
   ],
   "source": [
    "data = pd.concat([data1,data2],ignore_index=True)\n",
    "data=data[[\"textos\",\"labels\"]]\n",
    "data.shape"
   ]
  },
  {
   "cell_type": "code",
   "execution_count": 9,
   "id": "d6047636",
   "metadata": {},
   "outputs": [
    {
     "data": {
      "text/html": [
       "<div>\n",
       "<style scoped>\n",
       "    .dataframe tbody tr th:only-of-type {\n",
       "        vertical-align: middle;\n",
       "    }\n",
       "\n",
       "    .dataframe tbody tr th {\n",
       "        vertical-align: top;\n",
       "    }\n",
       "\n",
       "    .dataframe thead th {\n",
       "        text-align: right;\n",
       "    }\n",
       "</style>\n",
       "<table border=\"1\" class=\"dataframe\">\n",
       "  <thead>\n",
       "    <tr style=\"text-align: right;\">\n",
       "      <th></th>\n",
       "      <th>textos</th>\n",
       "      <th>labels</th>\n",
       "    </tr>\n",
       "  </thead>\n",
       "  <tbody>\n",
       "    <tr>\n",
       "      <th>0</th>\n",
       "      <td>\"Aprendizaje\" y \"educación\" se consideran sinó...</td>\n",
       "      <td>4</td>\n",
       "    </tr>\n",
       "    <tr>\n",
       "      <th>1</th>\n",
       "      <td>Para los niños más pequeños (bebés y niños peq...</td>\n",
       "      <td>4</td>\n",
       "    </tr>\n",
       "    <tr>\n",
       "      <th>2</th>\n",
       "      <td>Además, la formación de especialistas en medic...</td>\n",
       "      <td>3</td>\n",
       "    </tr>\n",
       "    <tr>\n",
       "      <th>3</th>\n",
       "      <td>En los países de la OCDE se tiende a pasar de ...</td>\n",
       "      <td>4</td>\n",
       "    </tr>\n",
       "    <tr>\n",
       "      <th>4</th>\n",
       "      <td>Este grupo se centró en las personas que padec...</td>\n",
       "      <td>3</td>\n",
       "    </tr>\n",
       "  </tbody>\n",
       "</table>\n",
       "</div>"
      ],
      "text/plain": [
       "                                              textos  labels\n",
       "0  \"Aprendizaje\" y \"educación\" se consideran sinó...       4\n",
       "1  Para los niños más pequeños (bebés y niños peq...       4\n",
       "2  Además, la formación de especialistas en medic...       3\n",
       "3  En los países de la OCDE se tiende a pasar de ...       4\n",
       "4  Este grupo se centró en las personas que padec...       3"
      ]
     },
     "execution_count": 9,
     "metadata": {},
     "output_type": "execute_result"
    }
   ],
   "source": [
    "data.head()"
   ]
  },
  {
   "cell_type": "markdown",
   "id": "ebc7e0e9",
   "metadata": {},
   "source": [
    "De esta forma, al combinar todos los datos con los que se cuenta, se tiene que quedan 1043 datos para el ODS 1, 1057 datos para el ODS 3 y 1068 datos para el ODS 4, por consiguiente, se alcanza el objetivo del prompting de balancear las clases en el dataset. El dataset final se guarda en el archivo \"DatosCompletos.xlsx\" en la carpeta data del proyecto."
   ]
  },
  {
   "cell_type": "code",
   "execution_count": 10,
   "id": "969a959c",
   "metadata": {},
   "outputs": [
    {
     "name": "stdout",
     "output_type": "stream",
     "text": [
      "Cuenta del número de entradas por cada ODS\n",
      "        cuenta\n",
      "labels        \n",
      "1         1043\n",
      "3         1057\n",
      "4         1068\n"
     ]
    }
   ],
   "source": [
    "ods_entradas = data[\"labels\"].value_counts().sort_index()\n",
    "print(\"Cuenta del número de entradas por cada ODS\")\n",
    "print(ods_entradas.to_frame(\"cuenta\"))"
   ]
  },
  {
   "cell_type": "code",
   "execution_count": 11,
   "id": "081e85ad",
   "metadata": {},
   "outputs": [],
   "source": [
    "data.to_excel(\"../data/DatosCompletos.xlsx\")"
   ]
  },
  {
   "cell_type": "markdown",
   "id": "57a02c63",
   "metadata": {},
   "source": [
    "## Reentrenamiento y evaluación del modelo etapa 2"
   ]
  },
  {
   "cell_type": "markdown",
   "id": "4091b6ec",
   "metadata": {},
   "source": [
    "En primer lugar, se hace la respectiva división de los datos en train y test. Los datos de train se almacenan en el archivo \"DatosAumentadosTrain.xlsx\" en el subdirectorio train de la carpeta data. Por su parte, los datos de test se guardan en el archivo \"DatosAumentadosTest.xlsx\" en el subdirectorio test de la carpeta data."
   ]
  },
  {
   "cell_type": "code",
   "execution_count": 12,
   "id": "bf5fd4f1",
   "metadata": {},
   "outputs": [],
   "source": [
    "X = data['textos']\n",
    "y = data['labels']\n",
    "X_train, X_test, y_train, y_test = train_test_split(\n",
    "    X, y, test_size=0.25, random_state=42, stratify=y\n",
    ")\n",
    "\n",
    "train = pd.concat([X_train,y_train], axis=1)\n",
    "train.to_excel(\"../data/train/DatosAumentadosTrain.xlsx\",index=False)\n",
    "train.head()\n",
    "\n",
    "test = pd.concat([X_test,y_test], axis=1)\n",
    "test.to_excel(\"../data/test/DatosAumentadosTest.xlsx\",index=False)"
   ]
  },
  {
   "cell_type": "markdown",
   "id": "436aba8f",
   "metadata": {},
   "source": [
    "Como siguiente paso, se reentrena el modelo con los datos aumentados de train mediante el uso de las funcionalidades disponibles en el archivo pipeline.py. Asimismo, una vez se reentrena el modelo, se persiste el modelo nuevo en un archivo .pkl para poder evaluar el modelo con las funcionalidades el archivo evaluate.py."
   ]
  },
  {
   "cell_type": "code",
   "execution_count": null,
   "id": "a90d8113",
   "metadata": {},
   "outputs": [],
   "source": [
    "modelo2 = p.entrenar_modelo(X_train,y_train)"
   ]
  },
  {
   "cell_type": "code",
   "execution_count": 15,
   "id": "34947961",
   "metadata": {},
   "outputs": [
    {
     "name": "stdout",
     "output_type": "stream",
     "text": [
      "-> Modelo guardado en: ../models/model_nb_etapa2_2025-10-13_14-29-18.pkl\n"
     ]
    },
    {
     "data": {
      "text/plain": [
       "'../models/model_nb_etapa2_2025-10-13_14-29-18.pkl'"
      ]
     },
     "execution_count": 15,
     "metadata": {},
     "output_type": "execute_result"
    }
   ],
   "source": [
    "modelo2_pipe = modelo2[0]\n",
    "r = p.guardar_modelo(modelo2_pipe,'../models/model_nb_etapa2')\n",
    "r"
   ]
  },
  {
   "cell_type": "markdown",
   "id": "b6cb7770",
   "metadata": {},
   "source": [
    "Por último, como se mencionó previamente, se usa la función evaluate_model_on_file del archivo evaluate.py para evaluar el rendimiento del modelo reentrenado. A esta funcionalidad se le debe pasar como parámetros el modelo como archivo .pkl y los datos de test almacenados en su respectivo archivo de excel."
   ]
  },
  {
   "cell_type": "code",
   "execution_count": 17,
   "id": "53b7cac1",
   "metadata": {},
   "outputs": [
    {
     "data": {
      "text/plain": [
       "{'n_samples': 792,\n",
       " 'accuracy': 0.9633838383838383,\n",
       " 'precision_macro': 0.9638686476921771,\n",
       " 'recall_macro': 0.9634531417754975,\n",
       " 'f1_macro': 0.9633925230051704,\n",
       " 'f1_micro': 0.9633838383838383,\n",
       " 'f1_weighted': 0.9634273087474405}"
      ]
     },
     "execution_count": 17,
     "metadata": {},
     "output_type": "execute_result"
    }
   ],
   "source": [
    "e.evaluate_model_on_file(\"model_nb_etapa2_2025-10-13_14-29-18.pkl\",\"DatosAumentadosTest.xlsx\",'textos','labels')"
   ]
  },
  {
   "cell_type": "markdown",
   "id": "b6c29564",
   "metadata": {},
   "source": [
    "## Comparación de modelos"
   ]
  },
  {
   "cell_type": "markdown",
   "id": "2fee3cdf",
   "metadata": {},
   "source": [
    "|Modelo|Accuracy|Precision macro|Recall macro|f1 macro|\n",
    "|------|--------|---------------|------------|--------|\n",
    "|Etapa1|0.9091|0.9262|0.8958|0.9064|\n",
    "|Etapa2|0.9634|0.9639|0.9634|0.9634|"
   ]
  },
  {
   "cell_type": "markdown",
   "id": "a3ddf5ab",
   "metadata": {},
   "source": [
    "Previo al análisis de los resultados para comparar los modelos, resulta pertinente aclarar que en la tabla comparativa presentada el modelo Etapa1 corresponde al mejor modelo hallado en la etapa 1 del proyecto y, por su parte, el modelo Etapa2 corresponde al modelo reentrenado con los datos completos y balanceados que se generaron con la combinación de los datos de etapa 1, los datos de etapa 2 y los datos generados por el prompting.\n",
    "Con esto en mente, se procede al análisis de los resultados.\n",
    "- Se cumple lo esperado. El modelo reentrenado con más datos (3168 datos en total) y con datos balanceados tiene un mejor rendimiento que el mejor modelo hallado en la etapa 1. \n",
    "- En primer lugar, al tener más datos para su entrenamiento, el modelo Etapa2 tiene más recursos para conocer e identificar los patrones y comportamientos relevantes con mayor detalle para predecir de una mejor manera. En otras palabras, al contar con más datos, el modelo tiene mayor información para aprender sobre las características relevantes que permiten identificar con mayor claridad a qué ODS pertenece una opinión.\n",
    "- En segundo lugar, el balanceo de las clases permite prevenir que el modelo caiga en sesgos que lo hagan muy bueno para predecir opiniones que pertenecen a las clases con mayores datos, pero que lo hagan no tan bueno para predecir las opiniones de los ODS para los que se tienen menos datos. En otras palabras, con el balanceo de clases se consigue un equilibrio del modelo para que aprenda a predecir el ODS al que pertenecen las opiniones correctamente, sin importar a qué ODS pertenecen realmente porque con el balanceo de los datos el modelo aprende por igual a distinguir los detalles relevantes para clasificar acertadamente una opinión.\n",
    "- Debido a que es mejor el modelo reentrenado, lo apropiado es usar dicho modelo para el despliegue de la aplicación para el usuario.\n",
    "- Como métrica general, el modelo Etapa2 tienen una exactitud bastante alta, casi igual a 1, lo que indica que en general, teniendo en cuenta que los datos están balanceados, el modelo clasifica más del 96% de las opiniones en su ODS correcto.\n",
    "- Con base en la precisión macro del modelo de 0.9639, se evidencia un excelente rendimiento del modelo en cuanto a su precisión, ya que la mayoría (más del 96%) de las clasificaciones que hizo para un ODS fueron correctas. Asimismo, según su recall macro, sin importar el ODS, el modelo tiene un excelente rendimiento para detectar las opiniones que pertenecen a dicho ODS.\n",
    "- Por último, a partir de la métrica de comparación principal que es el f1-score macro, el modelo reentrenado evidencia una clara mejora en el rendimiento respecto al mejor modelo de la etapa 1. En este orden de ideas, el f1 macro de 0.9634 muestra que el modelo reentrenado con más datos y datos balanceados se equivoca poco en sus predicciones y, además, detecta con facilidad el ODS correcto al que pertenece una opinión, sin importar el ODS al que realmente pertenece la opinión.    "
   ]
  }
 ],
 "metadata": {
  "kernelspec": {
   "display_name": "Python 3",
   "language": "python",
   "name": "python3"
  },
  "language_info": {
   "codemirror_mode": {
    "name": "ipython",
    "version": 3
   },
   "file_extension": ".py",
   "mimetype": "text/x-python",
   "name": "python",
   "nbconvert_exporter": "python",
   "pygments_lexer": "ipython3",
   "version": "3.11.9"
  }
 },
 "nbformat": 4,
 "nbformat_minor": 5
}
