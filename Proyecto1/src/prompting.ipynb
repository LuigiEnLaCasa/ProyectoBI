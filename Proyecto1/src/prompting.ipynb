{
 "cells": [
  {
   "cell_type": "markdown",
   "id": "e2148e50",
   "metadata": {},
   "source": [
    "# Prompting y comparación de modelos"
   ]
  },
  {
   "cell_type": "markdown",
   "id": "823f25b0",
   "metadata": {},
   "source": [
    "La evaluación y comparación de modelos en esta etapa, al igual que en la etapa 1, se basan en el análisis de la métrica f1-score macro. Del mismo modo, se usa la métrica de precisión macro y el recall macro para profundizar en el análisis de la métrica principal sobre el rendimiento de los modelos."
   ]
  },
  {
   "cell_type": "markdown",
   "id": "0b889578",
   "metadata": {},
   "source": [
    "### Importaciones"
   ]
  },
  {
   "cell_type": "code",
   "execution_count": 1,
   "id": "0ffaee23",
   "metadata": {},
   "outputs": [],
   "source": [
    "import sys, os\n",
    "sys.path.append(os.path.abspath(os.path.join(os.getcwd(), '..')))\n",
    "\n",
    "import evaluate as e   \n",
    "import pandas as pd\n",
    "import pipeline as p\n",
    "from sklearn.model_selection import train_test_split"
   ]
  },
  {
   "cell_type": "markdown",
   "id": "82793db1",
   "metadata": {},
   "source": [
    "## Evaluación modelo etapa 1"
   ]
  },
  {
   "cell_type": "markdown",
   "id": "ddb85aa2",
   "metadata": {},
   "source": [
    "Para la evvaluación del modelo de la etapa 1, se usan los datos dados para la etapa 2 como datos de test. Asimismo, se usan los archivos .py creados en el directorio src para facilitar la implementación de la evaluación."
   ]
  },
  {
   "cell_type": "code",
   "execution_count": 2,
   "id": "9431c1d6",
   "metadata": {},
   "outputs": [
    {
     "data": {
      "text/plain": [
       "{'n_samples': 99,\n",
       " 'accuracy': 0.9090909090909091,\n",
       " 'precision_macro': 0.9261904761904761,\n",
       " 'recall_macro': 0.8959763750461424,\n",
       " 'f1_macro': 0.9063501891984864,\n",
       " 'f1_micro': 0.9090909090909091,\n",
       " 'f1_weighted': 0.9089053590601577}"
      ]
     },
     "execution_count": 2,
     "metadata": {},
     "output_type": "execute_result"
    }
   ],
   "source": [
    "e.evaluate_model_on_file(\"model_nb_etapa1.pkl\",\"Datos_etapa 2.xlsx\",\"textos\",\"labels\")"
   ]
  },
  {
   "cell_type": "markdown",
   "id": "a292a6b5",
   "metadata": {},
   "source": [
    "## Prompting"
   ]
  },
  {
   "cell_type": "code",
   "execution_count": 3,
   "id": "d15840c3",
   "metadata": {},
   "outputs": [
    {
     "data": {
      "text/html": [
       "<div>\n",
       "<style scoped>\n",
       "    .dataframe tbody tr th:only-of-type {\n",
       "        vertical-align: middle;\n",
       "    }\n",
       "\n",
       "    .dataframe tbody tr th {\n",
       "        vertical-align: top;\n",
       "    }\n",
       "\n",
       "    .dataframe thead th {\n",
       "        text-align: right;\n",
       "    }\n",
       "</style>\n",
       "<table border=\"1\" class=\"dataframe\">\n",
       "  <thead>\n",
       "    <tr style=\"text-align: right;\">\n",
       "      <th></th>\n",
       "      <th>textos</th>\n",
       "      <th>labels</th>\n",
       "    </tr>\n",
       "  </thead>\n",
       "  <tbody>\n",
       "    <tr>\n",
       "      <th>0</th>\n",
       "      <td>La definición de privación está basada en el m...</td>\n",
       "      <td>1</td>\n",
       "    </tr>\n",
       "    <tr>\n",
       "      <th>1</th>\n",
       "      <td>La mayoría de los programas de protección soci...</td>\n",
       "      <td>1</td>\n",
       "    </tr>\n",
       "    <tr>\n",
       "      <th>2</th>\n",
       "      <td>Esto es dos veces y media mayor que la partici...</td>\n",
       "      <td>1</td>\n",
       "    </tr>\n",
       "    <tr>\n",
       "      <th>3</th>\n",
       "      <td>El enfoque aquí está en los aspectos de la pob...</td>\n",
       "      <td>1</td>\n",
       "    </tr>\n",
       "    <tr>\n",
       "      <th>4</th>\n",
       "      <td>El factor educativo representa una mayor contr...</td>\n",
       "      <td>1</td>\n",
       "    </tr>\n",
       "  </tbody>\n",
       "</table>\n",
       "</div>"
      ],
      "text/plain": [
       "                                              textos  labels\n",
       "0  La definición de privación está basada en el m...       1\n",
       "1  La mayoría de los programas de protección soci...       1\n",
       "2  Esto es dos veces y media mayor que la partici...       1\n",
       "3  El enfoque aquí está en los aspectos de la pob...       1\n",
       "4  El factor educativo representa una mayor contr...       1"
      ]
     },
     "execution_count": 3,
     "metadata": {},
     "output_type": "execute_result"
    }
   ],
   "source": [
    "data0 = pd.read_excel(\"../data/test/Datos_etapa 2.xlsx\")\n",
    "data0.head()"
   ]
  },
  {
   "cell_type": "code",
   "execution_count": 4,
   "id": "1cd00709",
   "metadata": {},
   "outputs": [
    {
     "data": {
      "text/plain": [
       "(99, 2)"
      ]
     },
     "execution_count": 4,
     "metadata": {},
     "output_type": "execute_result"
    }
   ],
   "source": [
    "data0.shape"
   ]
  },
  {
   "cell_type": "code",
   "execution_count": 5,
   "id": "f326383b",
   "metadata": {},
   "outputs": [
    {
     "name": "stdout",
     "output_type": "stream",
     "text": [
      "Cuenta del número de entradas por cada ODS\n",
      "        cuenta\n",
      "labels        \n",
      "1           21\n",
      "3           35\n",
      "4           43\n"
     ]
    }
   ],
   "source": [
    "ods_entradas = data0[\"labels\"].value_counts().sort_index()\n",
    "print(\"Cuenta del número de entradas por cada ODS\")\n",
    "print(ods_entradas.to_frame(\"cuenta\"))"
   ]
  },
  {
   "cell_type": "code",
   "execution_count": 6,
   "id": "952bada5",
   "metadata": {},
   "outputs": [],
   "source": [
    "data1 = pd.read_excel(\"../data/train/Datos_etapa1.xlsx\")"
   ]
  },
  {
   "cell_type": "code",
   "execution_count": 7,
   "id": "66a22b05",
   "metadata": {},
   "outputs": [],
   "source": [
    "data2 = pd.read_excel(\"../data/DatosParciales.xlsx\")"
   ]
  },
  {
   "cell_type": "code",
   "execution_count": 8,
   "id": "de31bd58",
   "metadata": {},
   "outputs": [
    {
     "data": {
      "text/plain": [
       "(3168, 2)"
      ]
     },
     "execution_count": 8,
     "metadata": {},
     "output_type": "execute_result"
    }
   ],
   "source": [
    "data = pd.concat([data1,data2],ignore_index=True)\n",
    "data=data[[\"textos\",\"labels\"]]\n",
    "data.shape"
   ]
  },
  {
   "cell_type": "code",
   "execution_count": 9,
   "id": "d6047636",
   "metadata": {},
   "outputs": [
    {
     "data": {
      "text/html": [
       "<div>\n",
       "<style scoped>\n",
       "    .dataframe tbody tr th:only-of-type {\n",
       "        vertical-align: middle;\n",
       "    }\n",
       "\n",
       "    .dataframe tbody tr th {\n",
       "        vertical-align: top;\n",
       "    }\n",
       "\n",
       "    .dataframe thead th {\n",
       "        text-align: right;\n",
       "    }\n",
       "</style>\n",
       "<table border=\"1\" class=\"dataframe\">\n",
       "  <thead>\n",
       "    <tr style=\"text-align: right;\">\n",
       "      <th></th>\n",
       "      <th>textos</th>\n",
       "      <th>labels</th>\n",
       "    </tr>\n",
       "  </thead>\n",
       "  <tbody>\n",
       "    <tr>\n",
       "      <th>0</th>\n",
       "      <td>\"Aprendizaje\" y \"educación\" se consideran sinó...</td>\n",
       "      <td>4</td>\n",
       "    </tr>\n",
       "    <tr>\n",
       "      <th>1</th>\n",
       "      <td>Para los niños más pequeños (bebés y niños peq...</td>\n",
       "      <td>4</td>\n",
       "    </tr>\n",
       "    <tr>\n",
       "      <th>2</th>\n",
       "      <td>Además, la formación de especialistas en medic...</td>\n",
       "      <td>3</td>\n",
       "    </tr>\n",
       "    <tr>\n",
       "      <th>3</th>\n",
       "      <td>En los países de la OCDE se tiende a pasar de ...</td>\n",
       "      <td>4</td>\n",
       "    </tr>\n",
       "    <tr>\n",
       "      <th>4</th>\n",
       "      <td>Este grupo se centró en las personas que padec...</td>\n",
       "      <td>3</td>\n",
       "    </tr>\n",
       "  </tbody>\n",
       "</table>\n",
       "</div>"
      ],
      "text/plain": [
       "                                              textos  labels\n",
       "0  \"Aprendizaje\" y \"educación\" se consideran sinó...       4\n",
       "1  Para los niños más pequeños (bebés y niños peq...       4\n",
       "2  Además, la formación de especialistas en medic...       3\n",
       "3  En los países de la OCDE se tiende a pasar de ...       4\n",
       "4  Este grupo se centró en las personas que padec...       3"
      ]
     },
     "execution_count": 9,
     "metadata": {},
     "output_type": "execute_result"
    }
   ],
   "source": [
    "data.head()"
   ]
  },
  {
   "cell_type": "code",
   "execution_count": 10,
   "id": "969a959c",
   "metadata": {},
   "outputs": [
    {
     "name": "stdout",
     "output_type": "stream",
     "text": [
      "Cuenta del número de entradas por cada ODS\n",
      "        cuenta\n",
      "labels        \n",
      "1         1043\n",
      "3         1057\n",
      "4         1068\n"
     ]
    }
   ],
   "source": [
    "ods_entradas = data[\"labels\"].value_counts().sort_index()\n",
    "print(\"Cuenta del número de entradas por cada ODS\")\n",
    "print(ods_entradas.to_frame(\"cuenta\"))"
   ]
  },
  {
   "cell_type": "code",
   "execution_count": 11,
   "id": "081e85ad",
   "metadata": {},
   "outputs": [],
   "source": [
    "data.to_excel(\"../data/DatosCompletos.xlsx\")"
   ]
  },
  {
   "cell_type": "code",
   "execution_count": 12,
   "id": "bf5fd4f1",
   "metadata": {},
   "outputs": [],
   "source": [
    "X = data['textos']\n",
    "y = data['labels']\n",
    "X_train, X_test, y_train, y_test = train_test_split(\n",
    "    X, y, test_size=0.25, random_state=42, stratify=y\n",
    ")\n",
    "\n",
    "train = pd.concat([X_train,y_train], axis=1)\n",
    "train.to_excel(\"../data/train/DatosAumentadosTrain.xlsx\",index=False)\n",
    "train.head()\n",
    "\n",
    "test = pd.concat([X_test,y_test], axis=1)\n",
    "test.to_excel(\"../data/test/DatosAumentadosTest.xlsx\",index=False)"
   ]
  },
  {
   "cell_type": "code",
   "execution_count": null,
   "id": "a90d8113",
   "metadata": {},
   "outputs": [],
   "source": [
    "modelo2 = p.entrenar_modelo(X_train,y_train)"
   ]
  },
  {
   "cell_type": "code",
   "execution_count": 15,
   "id": "34947961",
   "metadata": {},
   "outputs": [
    {
     "name": "stdout",
     "output_type": "stream",
     "text": [
      "-> Modelo guardado en: ../models/model_nb_etapa2_2025-10-13_14-29-18.pkl\n"
     ]
    },
    {
     "data": {
      "text/plain": [
       "'../models/model_nb_etapa2_2025-10-13_14-29-18.pkl'"
      ]
     },
     "execution_count": 15,
     "metadata": {},
     "output_type": "execute_result"
    }
   ],
   "source": [
    "modelo2_pipe = modelo2[0]\n",
    "r = p.guardar_modelo(modelo2_pipe,'../models/model_nb_etapa2')\n",
    "r"
   ]
  },
  {
   "cell_type": "code",
   "execution_count": 17,
   "id": "53b7cac1",
   "metadata": {},
   "outputs": [
    {
     "data": {
      "text/plain": [
       "{'n_samples': 792,\n",
       " 'accuracy': 0.9633838383838383,\n",
       " 'precision_macro': 0.9638686476921771,\n",
       " 'recall_macro': 0.9634531417754975,\n",
       " 'f1_macro': 0.9633925230051704,\n",
       " 'f1_micro': 0.9633838383838383,\n",
       " 'f1_weighted': 0.9634273087474405}"
      ]
     },
     "execution_count": 17,
     "metadata": {},
     "output_type": "execute_result"
    }
   ],
   "source": [
    "e.evaluate_model_on_file(\"model_nb_etapa2_2025-10-13_14-29-18.pkl\",\"DatosAumentadosTest.xlsx\",'textos','labels')"
   ]
  }
 ],
 "metadata": {
  "kernelspec": {
   "display_name": "Python 3",
   "language": "python",
   "name": "python3"
  },
  "language_info": {
   "codemirror_mode": {
    "name": "ipython",
    "version": 3
   },
   "file_extension": ".py",
   "mimetype": "text/x-python",
   "name": "python",
   "nbconvert_exporter": "python",
   "pygments_lexer": "ipython3",
   "version": "3.11.9"
  }
 },
 "nbformat": 4,
 "nbformat_minor": 5
}
